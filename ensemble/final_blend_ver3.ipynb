{
 "cells": [
  {
   "cell_type": "code",
   "execution_count": 1,
   "id": "e089e136-c607-4a85-9f1d-75b392b03a9e",
   "metadata": {},
   "outputs": [],
   "source": [
    "import pandas as pd"
   ]
  },
  {
   "cell_type": "code",
   "execution_count": 2,
   "id": "99534697-5612-40fa-be7d-dc764691381b",
   "metadata": {},
   "outputs": [],
   "source": [
    "# gemma11モデル\n",
    "gemma001 = pd.read_csv(\"gemma_ver1_infer3.csv\")\n",
    "gemma002 = pd.read_csv(\"gemma_ver2_infer.csv\")\n",
    "gemma005 = pd.read_csv(\"gemma_ver5_infer.csv\")\n",
    "gemma006 = pd.read_csv(\"gemma_ver6_infer.csv\")\n",
    "gemma007 = pd.read_csv(\"gemma_ver7_infer.csv\")\n",
    "gemma008 = pd.read_csv(\"gemma_ver8_infer.csv\")\n",
    "gemma009 = pd.read_csv(\"gemma_ver9_infer.csv\")\n",
    "gemma010 = pd.read_csv(\"gemma_ver10_infer.csv\")\n",
    "gemma012 = pd.read_csv(\"gemma_ver12_infer.csv\")\n",
    "gemma013 = pd.read_csv(\"gemma_ver13_infer.csv\")\n",
    "gemma015 = pd.read_csv(\"gemma_ver15_infer.csv\")\n",
    "\n",
    "#llama3モデル\n",
    "llama001 = pd.read_csv(\"llama_ver1_infer.csv\")\n",
    "llama002 = pd.read_csv(\"llama_ver2_infer.csv\")\n",
    "llama003 = pd.read_csv(\"llama_ver3_infer.csv\")\n",
    "\n",
    "#qwen2モデル\n",
    "qwen2001 = pd.read_csv(\"qwen2_ver1_infer.csv\")\n",
    "\n",
    "sample_submission = pd.read_csv(\"../../sample_submission.csv\")"
   ]
  },
  {
   "cell_type": "code",
   "execution_count": 3,
   "id": "5731fc61-8c0a-4ed7-8114-ea4e94b8b362",
   "metadata": {},
   "outputs": [
    {
     "data": {
      "text/html": [
       "<div>\n",
       "<style scoped>\n",
       "    .dataframe tbody tr th:only-of-type {\n",
       "        vertical-align: middle;\n",
       "    }\n",
       "\n",
       "    .dataframe tbody tr th {\n",
       "        vertical-align: top;\n",
       "    }\n",
       "\n",
       "    .dataframe thead th {\n",
       "        text-align: right;\n",
       "    }\n",
       "</style>\n",
       "<table border=\"1\" class=\"dataframe\">\n",
       "  <thead>\n",
       "    <tr style=\"text-align: right;\">\n",
       "      <th></th>\n",
       "      <th>target</th>\n",
       "    </tr>\n",
       "  </thead>\n",
       "  <tbody>\n",
       "    <tr>\n",
       "      <th>0</th>\n",
       "      <td>0.488567</td>\n",
       "    </tr>\n",
       "    <tr>\n",
       "      <th>1</th>\n",
       "      <td>0.315813</td>\n",
       "    </tr>\n",
       "    <tr>\n",
       "      <th>2</th>\n",
       "      <td>0.764448</td>\n",
       "    </tr>\n",
       "    <tr>\n",
       "      <th>3</th>\n",
       "      <td>0.980691</td>\n",
       "    </tr>\n",
       "    <tr>\n",
       "      <th>4</th>\n",
       "      <td>0.406762</td>\n",
       "    </tr>\n",
       "    <tr>\n",
       "      <th>...</th>\n",
       "      <td>...</td>\n",
       "    </tr>\n",
       "    <tr>\n",
       "      <th>11150</th>\n",
       "      <td>0.922096</td>\n",
       "    </tr>\n",
       "    <tr>\n",
       "      <th>11151</th>\n",
       "      <td>0.692480</td>\n",
       "    </tr>\n",
       "    <tr>\n",
       "      <th>11152</th>\n",
       "      <td>0.236563</td>\n",
       "    </tr>\n",
       "    <tr>\n",
       "      <th>11153</th>\n",
       "      <td>0.267781</td>\n",
       "    </tr>\n",
       "    <tr>\n",
       "      <th>11154</th>\n",
       "      <td>0.177353</td>\n",
       "    </tr>\n",
       "  </tbody>\n",
       "</table>\n",
       "<p>11155 rows × 1 columns</p>\n",
       "</div>"
      ],
      "text/plain": [
       "         target\n",
       "0      0.488567\n",
       "1      0.315813\n",
       "2      0.764448\n",
       "3      0.980691\n",
       "4      0.406762\n",
       "...         ...\n",
       "11150  0.922096\n",
       "11151  0.692480\n",
       "11152  0.236563\n",
       "11153  0.267781\n",
       "11154  0.177353\n",
       "\n",
       "[11155 rows x 1 columns]"
      ]
     },
     "execution_count": 3,
     "metadata": {},
     "output_type": "execute_result"
    }
   ],
   "source": [
    "sample_submission"
   ]
  },
  {
   "cell_type": "code",
   "execution_count": 4,
   "id": "2b3c4bde-5477-4705-8ee2-c3861c10e6d1",
   "metadata": {},
   "outputs": [],
   "source": [
    "gemma = sample_submission.copy()\n",
    "llama = sample_submission.copy()\n",
    "qwen2 = sample_submission.copy()"
   ]
  },
  {
   "cell_type": "code",
   "execution_count": 5,
   "id": "b01ca831-4eb9-464d-af0d-3a7ce861f482",
   "metadata": {},
   "outputs": [],
   "source": [
    "gemma[\"target\"] = (gemma001[\"target\"]+gemma002[\"target\"]+gemma005[\"target\"]+gemma006[\"target\"]+gemma007[\"target\"]+gemma008[\"target\"]+gemma009[\"target\"]+gemma010[\"target\"]+gemma012[\"target\"]+gemma013[\"target\"]+gemma015[\"target\"])/11\n",
    "llama[\"target\"] = (llama001[\"target\"] + llama002[\"target\"] + llama003[\"target\"])/3\n",
    "qwen2[\"target\"] = qwen2001[\"target\"]"
   ]
  },
  {
   "cell_type": "code",
   "execution_count": 6,
   "id": "13f3ad64-870c-4983-af42-98adb382a975",
   "metadata": {},
   "outputs": [],
   "source": [
    "sample_submission[\"target\"] = (gemma[\"target\"] + llama[\"target\"] + qwen2[\"target\"])/3"
   ]
  },
  {
   "cell_type": "code",
   "execution_count": 7,
   "id": "4caa2dab-5122-414d-81ff-e745bace474d",
   "metadata": {},
   "outputs": [
    {
     "data": {
      "text/html": [
       "<div>\n",
       "<style scoped>\n",
       "    .dataframe tbody tr th:only-of-type {\n",
       "        vertical-align: middle;\n",
       "    }\n",
       "\n",
       "    .dataframe tbody tr th {\n",
       "        vertical-align: top;\n",
       "    }\n",
       "\n",
       "    .dataframe thead th {\n",
       "        text-align: right;\n",
       "    }\n",
       "</style>\n",
       "<table border=\"1\" class=\"dataframe\">\n",
       "  <thead>\n",
       "    <tr style=\"text-align: right;\">\n",
       "      <th></th>\n",
       "      <th>target</th>\n",
       "    </tr>\n",
       "  </thead>\n",
       "  <tbody>\n",
       "    <tr>\n",
       "      <th>0</th>\n",
       "      <td>0.999195</td>\n",
       "    </tr>\n",
       "    <tr>\n",
       "      <th>1</th>\n",
       "      <td>0.387652</td>\n",
       "    </tr>\n",
       "    <tr>\n",
       "      <th>2</th>\n",
       "      <td>0.998345</td>\n",
       "    </tr>\n",
       "    <tr>\n",
       "      <th>3</th>\n",
       "      <td>0.307052</td>\n",
       "    </tr>\n",
       "    <tr>\n",
       "      <th>4</th>\n",
       "      <td>0.997589</td>\n",
       "    </tr>\n",
       "    <tr>\n",
       "      <th>...</th>\n",
       "      <td>...</td>\n",
       "    </tr>\n",
       "    <tr>\n",
       "      <th>11150</th>\n",
       "      <td>0.999166</td>\n",
       "    </tr>\n",
       "    <tr>\n",
       "      <th>11151</th>\n",
       "      <td>0.999362</td>\n",
       "    </tr>\n",
       "    <tr>\n",
       "      <th>11152</th>\n",
       "      <td>0.999221</td>\n",
       "    </tr>\n",
       "    <tr>\n",
       "      <th>11153</th>\n",
       "      <td>0.998740</td>\n",
       "    </tr>\n",
       "    <tr>\n",
       "      <th>11154</th>\n",
       "      <td>0.999417</td>\n",
       "    </tr>\n",
       "  </tbody>\n",
       "</table>\n",
       "<p>11155 rows × 1 columns</p>\n",
       "</div>"
      ],
      "text/plain": [
       "         target\n",
       "0      0.999195\n",
       "1      0.387652\n",
       "2      0.998345\n",
       "3      0.307052\n",
       "4      0.997589\n",
       "...         ...\n",
       "11150  0.999166\n",
       "11151  0.999362\n",
       "11152  0.999221\n",
       "11153  0.998740\n",
       "11154  0.999417\n",
       "\n",
       "[11155 rows x 1 columns]"
      ]
     },
     "execution_count": 7,
     "metadata": {},
     "output_type": "execute_result"
    }
   ],
   "source": [
    "sample_submission"
   ]
  },
  {
   "cell_type": "code",
   "execution_count": 8,
   "id": "d8075f39-d168-44fd-a346-034ca6dcabc3",
   "metadata": {},
   "outputs": [],
   "source": [
    "sample_submission.to_csv(\"final_blend_ver3.csv\", index=False)"
   ]
  },
  {
   "cell_type": "code",
   "execution_count": null,
   "id": "b2243a65-8fc2-4083-82c5-1aab0cdac788",
   "metadata": {},
   "outputs": [],
   "source": []
  }
 ],
 "metadata": {
  "kernelspec": {
   "display_name": "Python 3 (ipykernel)",
   "language": "python",
   "name": "python3"
  },
  "language_info": {
   "codemirror_mode": {
    "name": "ipython",
    "version": 3
   },
   "file_extension": ".py",
   "mimetype": "text/x-python",
   "name": "python",
   "nbconvert_exporter": "python",
   "pygments_lexer": "ipython3",
   "version": "3.10.13"
  }
 },
 "nbformat": 4,
 "nbformat_minor": 5
}
