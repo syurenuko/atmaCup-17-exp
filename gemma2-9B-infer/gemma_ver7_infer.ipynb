{
 "cells": [
  {
   "cell_type": "code",
   "execution_count": 1,
   "id": "812f366d-097c-41ce-96a3-a17c66a2c126",
   "metadata": {},
   "outputs": [],
   "source": [
    "# https://www.kaggle.com/code/emiz6413/training-gemma-2-9b-4-bit-qlora-fine-tuning"
   ]
  },
  {
   "cell_type": "code",
   "execution_count": 2,
   "id": "6ac3f545-0fe2-4ddd-927b-64757913d76a",
   "metadata": {},
   "outputs": [
    {
     "name": "stdout",
     "output_type": "stream",
     "text": [
      "Requirement already satisfied: transformers>=4.42.3 in /opt/conda/lib/python3.10/site-packages (4.44.2)\n",
      "Requirement already satisfied: bitsandbytes in /opt/conda/lib/python3.10/site-packages (0.43.3)\n",
      "Requirement already satisfied: accelerate in /opt/conda/lib/python3.10/site-packages (0.33.0)\n",
      "Requirement already satisfied: peft in /opt/conda/lib/python3.10/site-packages (0.12.0)\n",
      "Requirement already satisfied: filelock in /opt/conda/lib/python3.10/site-packages (from transformers>=4.42.3) (3.13.1)\n",
      "Requirement already satisfied: huggingface-hub<1.0,>=0.23.2 in /opt/conda/lib/python3.10/site-packages (from transformers>=4.42.3) (0.24.6)\n",
      "Requirement already satisfied: numpy>=1.17 in /opt/conda/lib/python3.10/site-packages (from transformers>=4.42.3) (1.26.3)\n",
      "Requirement already satisfied: packaging>=20.0 in /opt/conda/lib/python3.10/site-packages (from transformers>=4.42.3) (23.1)\n",
      "Requirement already satisfied: pyyaml>=5.1 in /opt/conda/lib/python3.10/site-packages (from transformers>=4.42.3) (6.0.1)\n",
      "Requirement already satisfied: regex!=2019.12.17 in /opt/conda/lib/python3.10/site-packages (from transformers>=4.42.3) (2024.7.24)\n",
      "Requirement already satisfied: requests in /opt/conda/lib/python3.10/site-packages (from transformers>=4.42.3) (2.32.3)\n",
      "Requirement already satisfied: safetensors>=0.4.1 in /opt/conda/lib/python3.10/site-packages (from transformers>=4.42.3) (0.4.4)\n",
      "Requirement already satisfied: tokenizers<0.20,>=0.19 in /opt/conda/lib/python3.10/site-packages (from transformers>=4.42.3) (0.19.1)\n",
      "Requirement already satisfied: tqdm>=4.27 in /opt/conda/lib/python3.10/site-packages (from transformers>=4.42.3) (4.66.5)\n",
      "Requirement already satisfied: torch in /opt/conda/lib/python3.10/site-packages (from bitsandbytes) (2.2.0)\n",
      "Requirement already satisfied: psutil in /opt/conda/lib/python3.10/site-packages (from accelerate) (5.9.0)\n",
      "Requirement already satisfied: fsspec>=2023.5.0 in /opt/conda/lib/python3.10/site-packages (from huggingface-hub<1.0,>=0.23.2->transformers>=4.42.3) (2023.12.2)\n",
      "Requirement already satisfied: typing-extensions>=3.7.4.3 in /opt/conda/lib/python3.10/site-packages (from huggingface-hub<1.0,>=0.23.2->transformers>=4.42.3) (4.12.2)\n",
      "Requirement already satisfied: sympy in /opt/conda/lib/python3.10/site-packages (from torch->bitsandbytes) (1.12)\n",
      "Requirement already satisfied: networkx in /opt/conda/lib/python3.10/site-packages (from torch->bitsandbytes) (3.1)\n",
      "Requirement already satisfied: jinja2 in /opt/conda/lib/python3.10/site-packages (from torch->bitsandbytes) (3.1.2)\n",
      "Requirement already satisfied: charset-normalizer<4,>=2 in /opt/conda/lib/python3.10/site-packages (from requests->transformers>=4.42.3) (2.0.4)\n",
      "Requirement already satisfied: idna<4,>=2.5 in /opt/conda/lib/python3.10/site-packages (from requests->transformers>=4.42.3) (3.4)\n",
      "Requirement already satisfied: urllib3<3,>=1.21.1 in /opt/conda/lib/python3.10/site-packages (from requests->transformers>=4.42.3) (1.26.18)\n",
      "Requirement already satisfied: certifi>=2017.4.17 in /opt/conda/lib/python3.10/site-packages (from requests->transformers>=4.42.3) (2023.11.17)\n",
      "Requirement already satisfied: MarkupSafe>=2.0 in /opt/conda/lib/python3.10/site-packages (from jinja2->torch->bitsandbytes) (2.1.3)\n",
      "Requirement already satisfied: mpmath>=0.19 in /opt/conda/lib/python3.10/site-packages (from sympy->torch->bitsandbytes) (1.3.0)\n",
      "\u001b[33mWARNING: Running pip as the 'root' user can result in broken permissions and conflicting behaviour with the system package manager. It is recommended to use a virtual environment instead: https://pip.pypa.io/warnings/venv\u001b[0m\u001b[33m\n",
      "\u001b[0m"
     ]
    }
   ],
   "source": [
    "# gemma-2 is available from transformers>=4.42.3\n",
    "!pip install -U \"transformers>=4.42.3\" bitsandbytes accelerate peft"
   ]
  },
  {
   "cell_type": "code",
   "execution_count": 3,
   "id": "0bb53cdc-7d8e-41f8-aec4-f39dbb2a952d",
   "metadata": {},
   "outputs": [
    {
     "name": "stdout",
     "output_type": "stream",
     "text": [
      "Requirement already satisfied: datasets in /opt/conda/lib/python3.10/site-packages (2.21.0)\n",
      "Requirement already satisfied: filelock in /opt/conda/lib/python3.10/site-packages (from datasets) (3.13.1)\n",
      "Requirement already satisfied: numpy>=1.17 in /opt/conda/lib/python3.10/site-packages (from datasets) (1.26.3)\n",
      "Requirement already satisfied: pyarrow>=15.0.0 in /opt/conda/lib/python3.10/site-packages (from datasets) (17.0.0)\n",
      "Requirement already satisfied: dill<0.3.9,>=0.3.0 in /opt/conda/lib/python3.10/site-packages (from datasets) (0.3.8)\n",
      "Requirement already satisfied: pandas in /opt/conda/lib/python3.10/site-packages (from datasets) (2.2.2)\n",
      "Requirement already satisfied: requests>=2.32.2 in /opt/conda/lib/python3.10/site-packages (from datasets) (2.32.3)\n",
      "Requirement already satisfied: tqdm>=4.66.3 in /opt/conda/lib/python3.10/site-packages (from datasets) (4.66.5)\n",
      "Requirement already satisfied: xxhash in /opt/conda/lib/python3.10/site-packages (from datasets) (3.5.0)\n",
      "Requirement already satisfied: multiprocess in /opt/conda/lib/python3.10/site-packages (from datasets) (0.70.16)\n",
      "Requirement already satisfied: fsspec<=2024.6.1,>=2023.1.0 in /opt/conda/lib/python3.10/site-packages (from fsspec[http]<=2024.6.1,>=2023.1.0->datasets) (2023.12.2)\n",
      "Requirement already satisfied: aiohttp in /opt/conda/lib/python3.10/site-packages (from datasets) (3.10.5)\n",
      "Requirement already satisfied: huggingface-hub>=0.21.2 in /opt/conda/lib/python3.10/site-packages (from datasets) (0.24.6)\n",
      "Requirement already satisfied: packaging in /opt/conda/lib/python3.10/site-packages (from datasets) (23.1)\n",
      "Requirement already satisfied: pyyaml>=5.1 in /opt/conda/lib/python3.10/site-packages (from datasets) (6.0.1)\n",
      "Requirement already satisfied: aiohappyeyeballs>=2.3.0 in /opt/conda/lib/python3.10/site-packages (from aiohttp->datasets) (2.4.0)\n",
      "Requirement already satisfied: aiosignal>=1.1.2 in /opt/conda/lib/python3.10/site-packages (from aiohttp->datasets) (1.3.1)\n",
      "Requirement already satisfied: attrs>=17.3.0 in /opt/conda/lib/python3.10/site-packages (from aiohttp->datasets) (23.1.0)\n",
      "Requirement already satisfied: frozenlist>=1.1.1 in /opt/conda/lib/python3.10/site-packages (from aiohttp->datasets) (1.4.1)\n",
      "Requirement already satisfied: multidict<7.0,>=4.5 in /opt/conda/lib/python3.10/site-packages (from aiohttp->datasets) (6.0.5)\n",
      "Requirement already satisfied: yarl<2.0,>=1.0 in /opt/conda/lib/python3.10/site-packages (from aiohttp->datasets) (1.9.4)\n",
      "Requirement already satisfied: async-timeout<5.0,>=4.0 in /opt/conda/lib/python3.10/site-packages (from aiohttp->datasets) (4.0.3)\n",
      "Requirement already satisfied: typing-extensions>=3.7.4.3 in /opt/conda/lib/python3.10/site-packages (from huggingface-hub>=0.21.2->datasets) (4.12.2)\n",
      "Requirement already satisfied: charset-normalizer<4,>=2 in /opt/conda/lib/python3.10/site-packages (from requests>=2.32.2->datasets) (2.0.4)\n",
      "Requirement already satisfied: idna<4,>=2.5 in /opt/conda/lib/python3.10/site-packages (from requests>=2.32.2->datasets) (3.4)\n",
      "Requirement already satisfied: urllib3<3,>=1.21.1 in /opt/conda/lib/python3.10/site-packages (from requests>=2.32.2->datasets) (1.26.18)\n",
      "Requirement already satisfied: certifi>=2017.4.17 in /opt/conda/lib/python3.10/site-packages (from requests>=2.32.2->datasets) (2023.11.17)\n",
      "Requirement already satisfied: python-dateutil>=2.8.2 in /opt/conda/lib/python3.10/site-packages (from pandas->datasets) (2.9.0.post0)\n",
      "Requirement already satisfied: pytz>=2020.1 in /opt/conda/lib/python3.10/site-packages (from pandas->datasets) (2023.3.post1)\n",
      "Requirement already satisfied: tzdata>=2022.7 in /opt/conda/lib/python3.10/site-packages (from pandas->datasets) (2024.1)\n",
      "Requirement already satisfied: six>=1.5 in /opt/conda/lib/python3.10/site-packages (from python-dateutil>=2.8.2->pandas->datasets) (1.16.0)\n",
      "\u001b[33mWARNING: Running pip as the 'root' user can result in broken permissions and conflicting behaviour with the system package manager. It is recommended to use a virtual environment instead: https://pip.pypa.io/warnings/venv\u001b[0m\u001b[33m\n",
      "\u001b[0m"
     ]
    }
   ],
   "source": [
    "!pip install datasets"
   ]
  },
  {
   "cell_type": "code",
   "execution_count": 4,
   "id": "1996b1da-b295-41f8-a018-a4be4a56dcea",
   "metadata": {},
   "outputs": [
    {
     "name": "stdout",
     "output_type": "stream",
     "text": [
      "Requirement already satisfied: scikit-learn in /opt/conda/lib/python3.10/site-packages (1.5.1)\n",
      "Requirement already satisfied: numpy>=1.19.5 in /opt/conda/lib/python3.10/site-packages (from scikit-learn) (1.26.3)\n",
      "Requirement already satisfied: scipy>=1.6.0 in /opt/conda/lib/python3.10/site-packages (from scikit-learn) (1.14.1)\n",
      "Requirement already satisfied: joblib>=1.2.0 in /opt/conda/lib/python3.10/site-packages (from scikit-learn) (1.4.2)\n",
      "Requirement already satisfied: threadpoolctl>=3.1.0 in /opt/conda/lib/python3.10/site-packages (from scikit-learn) (3.5.0)\n",
      "\u001b[33mWARNING: Running pip as the 'root' user can result in broken permissions and conflicting behaviour with the system package manager. It is recommended to use a virtual environment instead: https://pip.pypa.io/warnings/venv\u001b[0m\u001b[33m\n",
      "\u001b[0m"
     ]
    }
   ],
   "source": [
    "!pip install scikit-learn"
   ]
  },
  {
   "cell_type": "code",
   "execution_count": 5,
   "id": "46d63357-0527-45e8-a3ff-8d4013613ee5",
   "metadata": {},
   "outputs": [
    {
     "name": "stderr",
     "output_type": "stream",
     "text": [
      "2024-08-30 05:40:54.126679: E external/local_xla/xla/stream_executor/cuda/cuda_fft.cc:485] Unable to register cuFFT factory: Attempting to register factory for plugin cuFFT when one has already been registered\n",
      "2024-08-30 05:40:54.145052: E external/local_xla/xla/stream_executor/cuda/cuda_dnn.cc:8454] Unable to register cuDNN factory: Attempting to register factory for plugin cuDNN when one has already been registered\n",
      "2024-08-30 05:40:54.150790: E external/local_xla/xla/stream_executor/cuda/cuda_blas.cc:1452] Unable to register cuBLAS factory: Attempting to register factory for plugin cuBLAS when one has already been registered\n",
      "2024-08-30 05:40:54.165309: I tensorflow/core/platform/cpu_feature_guard.cc:210] This TensorFlow binary is optimized to use available CPU instructions in performance-critical operations.\n",
      "To enable the following instructions: AVX2 FMA, in other operations, rebuild TensorFlow with the appropriate compiler flags.\n",
      "2024-08-30 05:40:55.289484: W tensorflow/compiler/tf2tensorrt/utils/py_utils.cc:38] TF-TRT Warning: Could not find TensorRT\n"
     ]
    }
   ],
   "source": [
    "import time\n",
    "from dataclasses import dataclass\n",
    "from concurrent.futures import ThreadPoolExecutor\n",
    "\n",
    "import torch\n",
    "import sklearn\n",
    "import numpy as np\n",
    "import pandas as pd\n",
    "from transformers import Gemma2ForSequenceClassification, GemmaTokenizerFast, BitsAndBytesConfig\n",
    "from transformers.data.data_collator import pad_without_fast_tokenizer_warning\n",
    "from peft import PeftModel"
   ]
  },
  {
   "cell_type": "code",
   "execution_count": 6,
   "id": "0232a273-29a7-443f-9094-1ee336fc6f5a",
   "metadata": {},
   "outputs": [],
   "source": [
    "@dataclass\n",
    "class Config:\n",
    "    gemma_dir = 'unsloth/gemma-2-9b-it-bnb-4bit'\n",
    "    lora_dir = 'gemma007/checkpoint-333'\n",
    "    max_length = 512\n",
    "    batch_size = 24#global_batch_size\n",
    "    device = torch.device(\"cuda\")    \n",
    "\n",
    "cfg = Config()"
   ]
  },
  {
   "cell_type": "code",
   "execution_count": 7,
   "id": "27fba8b2-20a0-4b82-8b46-ccf1f2579c1b",
   "metadata": {},
   "outputs": [],
   "source": [
    "# テストデータの読み込み\n",
    "test = pd.read_csv(\"../test.csv\")"
   ]
  },
  {
   "cell_type": "code",
   "execution_count": 8,
   "id": "77cdb3c6-aa62-4be7-9f7c-a76abda17453",
   "metadata": {},
   "outputs": [],
   "source": [
    "from typing import Any, Dict, List\n",
    "\n",
    "def process_text(text: Any) -> str:\n",
    "    if text is None:\n",
    "        return \"\"\n",
    "    if isinstance(text, str):\n",
    "        try:\n",
    "            return \" \".join(eval(text, {\"null\": \"\"}))\n",
    "        except:\n",
    "            return str(text)\n",
    "    else:\n",
    "        return str(text)\n",
    "\n",
    "def tokenize(\n",
    "    tokenizer, Clothing_ID, Age, Title, Review_Text, Positive_Feedback_Count, max_length=cfg.max_length):\n",
    "\n",
    "    Clothing_ID = [\"<Clothing ID>: \" + process_text(t) for t in Clothing_ID]\n",
    "    Age = [\"\\n\\n<Age>: \" + process_text(t) for t in Age]\n",
    "    Title = [\"\\n\\n<Title>: \" + process_text(t) for t in Title]\n",
    "    Review_Text = [\"\\n\\n<Review Text>: \" + process_text(t) for t in Review_Text]\n",
    "    Positive_Feedback_Count = [\"\\n\\n<Positive Feedback Count>: \" + process_text(t) for t in Positive_Feedback_Count]\n",
    "\n",
    "    texts = [c + a + t + r + p for c, a, t, r, p in zip(Clothing_ID, Age, Title, Review_Text, Positive_Feedback_Count)]\n",
    "    tokenized = tokenizer(texts, max_length=max_length, truncation=True, padding=False)\n",
    "\n",
    "    input_ids = tokenized.input_ids\n",
    "    attention_mask = tokenized.attention_mask\n",
    "\n",
    "    return input_ids, attention_mask\n",
    "\n",
    "# データの処理\n",
    "tokenizer = GemmaTokenizerFast.from_pretrained(cfg.gemma_dir)\n",
    "tokenizer.add_eos_token = True\n",
    "tokenizer.padding_side = \"right\"\n",
    "\n",
    "data = pd.DataFrame()\n",
    "data[\"input_ids\"], data[\"attention_mask\"] = tokenize(tokenizer, test[\"Clothing ID\"], test[\"Age\"], test[\"Title\"], test[\"Review Text\"], test[\"Positive Feedback Count\"])\n",
    "#data[\"length\"] = data[\"input_ids\"].apply(len)"
   ]
  },
  {
   "cell_type": "code",
   "execution_count": 9,
   "id": "8494fb4d-02b6-41e2-9db8-73eb4a96985f",
   "metadata": {},
   "outputs": [
    {
     "data": {
      "text/html": [
       "<div>\n",
       "<style scoped>\n",
       "    .dataframe tbody tr th:only-of-type {\n",
       "        vertical-align: middle;\n",
       "    }\n",
       "\n",
       "    .dataframe tbody tr th {\n",
       "        vertical-align: top;\n",
       "    }\n",
       "\n",
       "    .dataframe thead th {\n",
       "        text-align: right;\n",
       "    }\n",
       "</style>\n",
       "<table border=\"1\" class=\"dataframe\">\n",
       "  <thead>\n",
       "    <tr style=\"text-align: right;\">\n",
       "      <th></th>\n",
       "      <th>input_ids</th>\n",
       "      <th>attention_mask</th>\n",
       "    </tr>\n",
       "  </thead>\n",
       "  <tbody>\n",
       "    <tr>\n",
       "      <th>0</th>\n",
       "      <td>[2, 235322, 119323, 4781, 78880, 235248, 23527...</td>\n",
       "      <td>[1, 1, 1, 1, 1, 1, 1, 1, 1, 1, 1, 1, 1, 1, 1, ...</td>\n",
       "    </tr>\n",
       "    <tr>\n",
       "      <th>1</th>\n",
       "      <td>[2, 235322, 119323, 4781, 78880, 235248, 23527...</td>\n",
       "      <td>[1, 1, 1, 1, 1, 1, 1, 1, 1, 1, 1, 1, 1, 1, 1, ...</td>\n",
       "    </tr>\n",
       "    <tr>\n",
       "      <th>2</th>\n",
       "      <td>[2, 235322, 119323, 4781, 78880, 235248, 23527...</td>\n",
       "      <td>[1, 1, 1, 1, 1, 1, 1, 1, 1, 1, 1, 1, 1, 1, 1, ...</td>\n",
       "    </tr>\n",
       "    <tr>\n",
       "      <th>3</th>\n",
       "      <td>[2, 235322, 119323, 4781, 78880, 235248, 23527...</td>\n",
       "      <td>[1, 1, 1, 1, 1, 1, 1, 1, 1, 1, 1, 1, 1, 1, 1, ...</td>\n",
       "    </tr>\n",
       "    <tr>\n",
       "      <th>4</th>\n",
       "      <td>[2, 235322, 119323, 4781, 78880, 235248, 23527...</td>\n",
       "      <td>[1, 1, 1, 1, 1, 1, 1, 1, 1, 1, 1, 1, 1, 1, 1, ...</td>\n",
       "    </tr>\n",
       "    <tr>\n",
       "      <th>...</th>\n",
       "      <td>...</td>\n",
       "      <td>...</td>\n",
       "    </tr>\n",
       "    <tr>\n",
       "      <th>11150</th>\n",
       "      <td>[2, 235322, 119323, 4781, 78880, 235248, 23528...</td>\n",
       "      <td>[1, 1, 1, 1, 1, 1, 1, 1, 1, 1, 1, 1, 1, 1, 1, ...</td>\n",
       "    </tr>\n",
       "    <tr>\n",
       "      <th>11151</th>\n",
       "      <td>[2, 235322, 119323, 4781, 78880, 235248, 23528...</td>\n",
       "      <td>[1, 1, 1, 1, 1, 1, 1, 1, 1, 1, 1, 1, 1, 1, 1, ...</td>\n",
       "    </tr>\n",
       "    <tr>\n",
       "      <th>11152</th>\n",
       "      <td>[2, 235322, 119323, 4781, 78880, 235248, 23528...</td>\n",
       "      <td>[1, 1, 1, 1, 1, 1, 1, 1, 1, 1, 1, 1, 1, 1, 1, ...</td>\n",
       "    </tr>\n",
       "    <tr>\n",
       "      <th>11153</th>\n",
       "      <td>[2, 235322, 119323, 4781, 78880, 235248, 23528...</td>\n",
       "      <td>[1, 1, 1, 1, 1, 1, 1, 1, 1, 1, 1, 1, 1, 1, 1, ...</td>\n",
       "    </tr>\n",
       "    <tr>\n",
       "      <th>11154</th>\n",
       "      <td>[2, 235322, 119323, 4781, 78880, 235248, 23528...</td>\n",
       "      <td>[1, 1, 1, 1, 1, 1, 1, 1, 1, 1, 1, 1, 1, 1, 1, ...</td>\n",
       "    </tr>\n",
       "  </tbody>\n",
       "</table>\n",
       "<p>11155 rows × 2 columns</p>\n",
       "</div>"
      ],
      "text/plain": [
       "                                               input_ids  \\\n",
       "0      [2, 235322, 119323, 4781, 78880, 235248, 23527...   \n",
       "1      [2, 235322, 119323, 4781, 78880, 235248, 23527...   \n",
       "2      [2, 235322, 119323, 4781, 78880, 235248, 23527...   \n",
       "3      [2, 235322, 119323, 4781, 78880, 235248, 23527...   \n",
       "4      [2, 235322, 119323, 4781, 78880, 235248, 23527...   \n",
       "...                                                  ...   \n",
       "11150  [2, 235322, 119323, 4781, 78880, 235248, 23528...   \n",
       "11151  [2, 235322, 119323, 4781, 78880, 235248, 23528...   \n",
       "11152  [2, 235322, 119323, 4781, 78880, 235248, 23528...   \n",
       "11153  [2, 235322, 119323, 4781, 78880, 235248, 23528...   \n",
       "11154  [2, 235322, 119323, 4781, 78880, 235248, 23528...   \n",
       "\n",
       "                                          attention_mask  \n",
       "0      [1, 1, 1, 1, 1, 1, 1, 1, 1, 1, 1, 1, 1, 1, 1, ...  \n",
       "1      [1, 1, 1, 1, 1, 1, 1, 1, 1, 1, 1, 1, 1, 1, 1, ...  \n",
       "2      [1, 1, 1, 1, 1, 1, 1, 1, 1, 1, 1, 1, 1, 1, 1, ...  \n",
       "3      [1, 1, 1, 1, 1, 1, 1, 1, 1, 1, 1, 1, 1, 1, 1, ...  \n",
       "4      [1, 1, 1, 1, 1, 1, 1, 1, 1, 1, 1, 1, 1, 1, 1, ...  \n",
       "...                                                  ...  \n",
       "11150  [1, 1, 1, 1, 1, 1, 1, 1, 1, 1, 1, 1, 1, 1, 1, ...  \n",
       "11151  [1, 1, 1, 1, 1, 1, 1, 1, 1, 1, 1, 1, 1, 1, 1, ...  \n",
       "11152  [1, 1, 1, 1, 1, 1, 1, 1, 1, 1, 1, 1, 1, 1, 1, ...  \n",
       "11153  [1, 1, 1, 1, 1, 1, 1, 1, 1, 1, 1, 1, 1, 1, 1, ...  \n",
       "11154  [1, 1, 1, 1, 1, 1, 1, 1, 1, 1, 1, 1, 1, 1, 1, ...  \n",
       "\n",
       "[11155 rows x 2 columns]"
      ]
     },
     "execution_count": 9,
     "metadata": {},
     "output_type": "execute_result"
    }
   ],
   "source": [
    "data"
   ]
  },
  {
   "cell_type": "code",
   "execution_count": 10,
   "id": "662b9eff-a34d-4e0c-8716-40bd73a6d600",
   "metadata": {},
   "outputs": [
    {
     "data": {
      "text/plain": [
       "input_ids\n",
       "[2, 235322, 119323, 4781, 78880, 235248, 235284, 235284, 235318, 109, 235322, 11345, 78880, 235248, 235304, 235284, 109, 235322, 4883, 78880, 16769, 109, 235322, 9037, 4820, 78880, 16769, 109, 235322, 35202, 28770, 3522, 78880, 235248, 235276, 1]                                                                                                                                                                                                                                                                                                                                                                                           4\n",
       "[2, 235322, 119323, 4781, 78880, 235248, 235321, 235304, 109, 235322, 11345, 78880, 235248, 235304, 235308, 109, 235322, 4883, 78880, 16769, 109, 235322, 9037, 4820, 78880, 16769, 109, 235322, 35202, 28770, 3522, 78880, 235248, 235276, 1]                                                                                                                                                                                                                                                                                                                                                                                                   3\n",
       "[2, 235322, 119323, 4781, 78880, 235248, 235284, 235284, 235318, 109, 235322, 11345, 78880, 235248, 235310, 235274, 109, 235322, 4883, 78880, 16769, 109, 235322, 9037, 4820, 78880, 16769, 109, 235322, 35202, 28770, 3522, 78880, 235248, 235276, 1]                                                                                                                                                                                                                                                                                                                                                                                           2\n",
       "[2, 235322, 119323, 4781, 78880, 235248, 235274, 235274, 235304, 109, 235322, 11345, 78880, 235248, 235304, 235315, 109, 235322, 4883, 78880, 16769, 109, 235322, 9037, 4820, 78880, 16769, 109, 235322, 35202, 28770, 3522, 78880, 235248, 235276, 1]                                                                                                                                                                                                                                                                                                                                                                                           2\n",
       "[2, 235322, 119323, 4781, 78880, 235248, 235310, 235315, 109, 235322, 11345, 78880, 235248, 235284, 235308, 109, 235322, 4883, 78880, 16769, 109, 235322, 9037, 4820, 78880, 16769, 109, 235322, 35202, 28770, 3522, 78880, 235248, 235276, 1]                                                                                                                                                                                                                                                                                                                                                                                                   2\n",
       "                                                                                                                                                                                                                                                                                                                                                                                                                                                                                                                                                                                                                                                ..\n",
       "[2, 235322, 119323, 4781, 78880, 235248, 235321, 235304, 109, 235322, 11345, 78880, 235248, 235308, 235308, 109, 235322, 4883, 78880, 50599, 3621, 67151, 109, 235322, 9037, 4820, 78880, 590, 729, 712, 12826, 577, 1717, 736, 5798, 611, 5934, 696, 970, 2813, 53342, 4659, 235265, 901, 235269, 496, 1498, 780, 7554, 573, 1536, 12070, 576, 73603, 575, 573, 9662, 235269, 948, 8830, 573, 5798, 577, 39623, 12879, 575, 573, 9903, 591, 14238, 1185, 2412, 23457, 12027, 846, 496, 26874, 665, 611, 7033, 675, 38037, 6267, 578, 665, 603, 1105, 3933, 573, 4191, 665, 729, 21166, 235341, 496, 235303, 235262, 712, 26182, 235265, ...]    1\n",
       "[2, 235322, 119323, 4781, 78880, 235248, 235321, 235304, 109, 235322, 11345, 78880, 235248, 235308, 235308, 109, 235322, 4883, 78880, 1704, 4154, 7777, 109, 235322, 9037, 4820, 78880, 590, 8044, 736, 2267, 675, 13937, 689, 77466, 235265, 496, 832, 2095, 947, 75629, 235265, 665, 235303, 235256, 10750, 578, 40969, 235265, 871, 1706, 476, 2395, 235341, 109, 235322, 35202, 28770, 3522, 78880, 235248, 235276, 1]                                                                                                                                                                                                                       1\n",
       "[2, 235322, 119323, 4781, 78880, 235248, 235321, 235304, 109, 235322, 11345, 78880, 235248, 235308, 235308, 109, 235322, 4883, 78880, 16769, 109, 235322, 9037, 4820, 78880, 25111, 578, 29096, 2024, 109, 235322, 35202, 28770, 3522, 78880, 235248, 235304, 1]                                                                                                                                                                                                                                                                                                                                                                                 1\n",
       "[2, 235322, 119323, 4781, 78880, 235248, 235321, 235304, 109, 235322, 11345, 78880, 235248, 235308, 235318, 109, 235322, 4883, 78880, 6553, 724, 3980, 26147, 109, 235322, 9037, 4820, 78880, 590, 1144, 1508, 4915, 675, 970, 8210, 235265, 665, 603, 476, 1775, 26147, 235341, 1508, 3980, 577, 8044, 578, 9786, 235341, 496, 1144, 1508, 16955, 577, 24935, 235267, 23834, 3773, 578, 736, 974, 603, 1508, 4072, 235265, 496, 7475, 5656, 665, 235265, 109, 235322, 35202, 28770, 3522, 78880, 235248, 235276, 1]                                                                                                                             1\n",
       "[2, 235322, 119323, 4781, 78880, 235248, 235284, 235304, 235284, 109, 235322, 11345, 78880, 235248, 235318, 235304, 109, 235322, 4883, 78880, 7377, 736, 5410, 235341, 109, 235322, 9037, 4820, 78880, 1417, 5410, 603, 11222, 58139, 235341, 665, 603, 2611, 685, 476, 47599, 578, 73092, 611, 573, 2971, 235265, 573, 9662, 4713, 4461, 1634, 68136, 578, 17508, 1154, 476, 6523, 235265, 496, 33958, 675, 573, 4509, 7316, 578, 496, 1742, 665, 4713, 1508, 7277, 235265, 2557, 10750, 578, 496, 1230, 496, 235303, 529, 947, 11228, 576, 8044, 921, 576, 665, 235265, 692, 798, 5410, 665, 908, 689, 5410, 665, 1706, 235265, 2182, ...]     1\n",
       "Name: count, Length: 11127, dtype: int64"
      ]
     },
     "execution_count": 10,
     "metadata": {},
     "output_type": "execute_result"
    }
   ],
   "source": [
    "data[\"input_ids\"].value_counts()"
   ]
  },
  {
   "cell_type": "code",
   "execution_count": 11,
   "id": "cb05eb2e-c5be-4d9f-ba59-d6b492eb8559",
   "metadata": {},
   "outputs": [
    {
     "data": {
      "text/html": [
       "<div>\n",
       "<style scoped>\n",
       "    .dataframe tbody tr th:only-of-type {\n",
       "        vertical-align: middle;\n",
       "    }\n",
       "\n",
       "    .dataframe tbody tr th {\n",
       "        vertical-align: top;\n",
       "    }\n",
       "\n",
       "    .dataframe thead th {\n",
       "        text-align: right;\n",
       "    }\n",
       "</style>\n",
       "<table border=\"1\" class=\"dataframe\">\n",
       "  <thead>\n",
       "    <tr style=\"text-align: right;\">\n",
       "      <th></th>\n",
       "      <th>Clothing ID</th>\n",
       "      <th>Age</th>\n",
       "      <th>Title</th>\n",
       "      <th>Review Text</th>\n",
       "      <th>Positive Feedback Count</th>\n",
       "    </tr>\n",
       "  </thead>\n",
       "  <tbody>\n",
       "    <tr>\n",
       "      <th>0</th>\n",
       "      <td>0</td>\n",
       "      <td>32</td>\n",
       "      <td>So happy i bought this skirt!</td>\n",
       "      <td>I love this skirt. it does run a little small,...</td>\n",
       "      <td>0</td>\n",
       "    </tr>\n",
       "    <tr>\n",
       "      <th>1</th>\n",
       "      <td>0</td>\n",
       "      <td>34</td>\n",
       "      <td>Runs small</td>\n",
       "      <td>Beautiful patterns and colors, but it sits ver...</td>\n",
       "      <td>0</td>\n",
       "    </tr>\n",
       "    <tr>\n",
       "      <th>2</th>\n",
       "      <td>0</td>\n",
       "      <td>37</td>\n",
       "      <td>Love the comfort of thi skirt</td>\n",
       "      <td>It is easily paired with a nice tip for work a...</td>\n",
       "      <td>0</td>\n",
       "    </tr>\n",
       "    <tr>\n",
       "      <th>3</th>\n",
       "      <td>0</td>\n",
       "      <td>39</td>\n",
       "      <td>Way too small</td>\n",
       "      <td>This is a beautiful skirt, but runs very small...</td>\n",
       "      <td>10</td>\n",
       "    </tr>\n",
       "    <tr>\n",
       "      <th>4</th>\n",
       "      <td>0</td>\n",
       "      <td>39</td>\n",
       "      <td>NaN</td>\n",
       "      <td>I usually wear a size 8/10 and i needed a larg...</td>\n",
       "      <td>0</td>\n",
       "    </tr>\n",
       "    <tr>\n",
       "      <th>...</th>\n",
       "      <td>...</td>\n",
       "      <td>...</td>\n",
       "      <td>...</td>\n",
       "      <td>...</td>\n",
       "      <td>...</td>\n",
       "    </tr>\n",
       "    <tr>\n",
       "      <th>11150</th>\n",
       "      <td>232</td>\n",
       "      <td>53</td>\n",
       "      <td>More beautiful in reality</td>\n",
       "      <td>I purchased this dress on a whim. it is easy t...</td>\n",
       "      <td>0</td>\n",
       "    </tr>\n",
       "    <tr>\n",
       "      <th>11151</th>\n",
       "      <td>232</td>\n",
       "      <td>58</td>\n",
       "      <td>Perfect dress!</td>\n",
       "      <td>This dress is very flattering on and can easil...</td>\n",
       "      <td>0</td>\n",
       "    </tr>\n",
       "    <tr>\n",
       "      <th>11152</th>\n",
       "      <td>232</td>\n",
       "      <td>60</td>\n",
       "      <td>Perfect dress</td>\n",
       "      <td>This is the most perfect dress i've ever bough...</td>\n",
       "      <td>0</td>\n",
       "    </tr>\n",
       "    <tr>\n",
       "      <th>11153</th>\n",
       "      <td>232</td>\n",
       "      <td>62</td>\n",
       "      <td>Really great!</td>\n",
       "      <td>This is a beautiful dress! not too interested ...</td>\n",
       "      <td>5</td>\n",
       "    </tr>\n",
       "    <tr>\n",
       "      <th>11154</th>\n",
       "      <td>232</td>\n",
       "      <td>63</td>\n",
       "      <td>Love this dress!</td>\n",
       "      <td>This dress is absolutely darling! it is light ...</td>\n",
       "      <td>2</td>\n",
       "    </tr>\n",
       "  </tbody>\n",
       "</table>\n",
       "<p>11155 rows × 5 columns</p>\n",
       "</div>"
      ],
      "text/plain": [
       "       Clothing ID  Age                          Title  \\\n",
       "0                0   32  So happy i bought this skirt!   \n",
       "1                0   34                     Runs small   \n",
       "2                0   37  Love the comfort of thi skirt   \n",
       "3                0   39                  Way too small   \n",
       "4                0   39                            NaN   \n",
       "...            ...  ...                            ...   \n",
       "11150          232   53      More beautiful in reality   \n",
       "11151          232   58                 Perfect dress!   \n",
       "11152          232   60                  Perfect dress   \n",
       "11153          232   62                  Really great!   \n",
       "11154          232   63               Love this dress!   \n",
       "\n",
       "                                             Review Text  \\\n",
       "0      I love this skirt. it does run a little small,...   \n",
       "1      Beautiful patterns and colors, but it sits ver...   \n",
       "2      It is easily paired with a nice tip for work a...   \n",
       "3      This is a beautiful skirt, but runs very small...   \n",
       "4      I usually wear a size 8/10 and i needed a larg...   \n",
       "...                                                  ...   \n",
       "11150  I purchased this dress on a whim. it is easy t...   \n",
       "11151  This dress is very flattering on and can easil...   \n",
       "11152  This is the most perfect dress i've ever bough...   \n",
       "11153  This is a beautiful dress! not too interested ...   \n",
       "11154  This dress is absolutely darling! it is light ...   \n",
       "\n",
       "       Positive Feedback Count  \n",
       "0                            0  \n",
       "1                            0  \n",
       "2                            0  \n",
       "3                           10  \n",
       "4                            0  \n",
       "...                        ...  \n",
       "11150                        0  \n",
       "11151                        0  \n",
       "11152                        0  \n",
       "11153                        5  \n",
       "11154                        2  \n",
       "\n",
       "[11155 rows x 5 columns]"
      ]
     },
     "execution_count": 11,
     "metadata": {},
     "output_type": "execute_result"
    }
   ],
   "source": [
    "test"
   ]
  },
  {
   "cell_type": "code",
   "execution_count": 12,
   "id": "196c6e7a-c25c-4160-93fb-56b8c11d943f",
   "metadata": {},
   "outputs": [
    {
     "name": "stdout",
     "output_type": "stream",
     "text": [
      "[2, 235322, 119323, 4781, 78880, 235248, 235276, 109, 235322, 11345, 78880, 235248, 235304, 235284, 109, 235322, 4883, 78880, 1704, 4915, 496, 8989, 736, 23210, 235341, 109, 235322, 9037, 4820, 78880, 590, 2182, 736, 23210, 235265, 665, 1721, 2060, 476, 2356, 2301, 235269, 496, 11538, 671, 3437, 2301, 578, 665, 603, 11818, 696, 573, 23663, 235269, 901, 2076, 3598, 235265, 496, 791, 4956, 978, 75629, 611, 736, 23210, 1178, 7669, 4341, 496, 791, 14987, 235265, 496, 235303, 524, 1125, 11892, 696, 573, 38701, 4659, 731, 1461, 14926, 682, 1368, 1683, 984, 1154, 665, 235265, 496, 1170, 1160, 675, 5982, 235269, 578, 984, 832, 2182, 665, 685, 1578, 235265, 109, 235322, 35202, 28770, 3522, 78880, 235248, 235276, 1]\n"
     ]
    }
   ],
   "source": [
    "print(data[\"input_ids\"][0])"
   ]
  },
  {
   "cell_type": "code",
   "execution_count": 13,
   "id": "f861c826-8db4-4964-9a18-b6b613bd9a1b",
   "metadata": {},
   "outputs": [
    {
     "name": "stdout",
     "output_type": "stream",
     "text": [
      "[2, 235322, 119323, 4781, 78880, 235248, 235276, 109, 235322, 11345, 78880, 235248, 235304, 235310, 109, 235322, 4883, 78880, 80963, 2301, 109, 235322, 9037, 4820, 78880, 25111, 12136, 578, 9276, 235269, 901, 665, 27505, 1508, 1536, 578, 10140, 2301, 235265, 496, 235303, 235262, 16342, 476, 2395, 235248, 235310, 578, 2371, 573, 2301, 235265, 143682, 832, 573, 1703, 235269, 901, 611, 573, 68038, 2857, 235265, 573, 23210, 27505, 712, 1536, 674, 573, 9662, 5163, 1706, 729, 476, 3298, 36919, 235265, 1582, 476, 21353, 1861, 665, 2277, 603, 4964, 578, 4713, 1775, 611, 573, 2091, 4485, 1861, 1284, 235303, 235256, 11967, 476, 16716, 577, 14338, 1368, 1536, 665, 37945, 578, 122291, 921, 235265, 109, 235322, 35202, 28770, 3522, 78880, 235248, 235276, 1]\n"
     ]
    }
   ],
   "source": [
    "print(data[\"input_ids\"][1])"
   ]
  },
  {
   "cell_type": "code",
   "execution_count": 14,
   "id": "ac145184-146f-43d5-b808-cc277e77aa42",
   "metadata": {},
   "outputs": [
    {
     "name": "stdout",
     "output_type": "stream",
     "text": [
      "<bos><Clothing ID>: 0\n",
      "\n",
      "<Age>: 32\n",
      "\n",
      "<Title>: So happy i bought this skirt!\n",
      "\n",
      "<Review Text>: I love this skirt. it does run a little small, i ordered an extra small and it is tight at the waist, but still works. i have received more compliments on this skirt than maybe anything i have owned. i've been stopped at the grocery store by people telling me how much they like it. i also work with kids, and they all love it as well.\n",
      "\n",
      "<Positive Feedback Count>: 0<eos>\n"
     ]
    }
   ],
   "source": [
    "print(tokenizer.decode(data[\"input_ids\"][0]))"
   ]
  },
  {
   "cell_type": "code",
   "execution_count": 15,
   "id": "a0a54bda-088a-4c37-aa39-78437222b843",
   "metadata": {},
   "outputs": [
    {
     "name": "stdout",
     "output_type": "stream",
     "text": [
      "<bos><Clothing ID>: 0\n",
      "\n",
      "<Age>: 34\n",
      "\n",
      "<Title>: Runs small\n",
      "\n",
      "<Review Text>: Beautiful patterns and colors, but it sits very high and runs small. i'm normally a size 4 and got the small. zipped all the way, but on the snug side. the skirt sits so high that the fabric coming down was a bit awkward. such a shame because it really is beautiful and looks great on the model probably because she's wearing a belt to hide how high it rides and flares out.\n",
      "\n",
      "<Positive Feedback Count>: 0<eos>\n"
     ]
    }
   ],
   "source": [
    "print(tokenizer.decode(data[\"input_ids\"][1]))"
   ]
  },
  {
   "cell_type": "code",
   "execution_count": 16,
   "id": "387755e6-c654-47cf-80e2-78663d69ca28",
   "metadata": {},
   "outputs": [
    {
     "name": "stdout",
     "output_type": "stream",
     "text": [
      "<bos><Clothing ID>: 232\n",
      "\n",
      "<Age>: 63\n",
      "\n",
      "<Title>: Love this dress!\n",
      "\n",
      "<Review Text>: This dress is absolutely darling! it is light as a feather and floats on the body. the fabric looks almost handpainted and fits like a dream. i disagree with the previous poster and i think it looks very rich. super comfortable and i know i'll get lots of wear out of it. you can dress it up or dress it down. love it!\n",
      "\n",
      "<Positive Feedback Count>: 2<eos>\n"
     ]
    }
   ],
   "source": [
    "print(tokenizer.decode(data[\"input_ids\"][11154]))"
   ]
  },
  {
   "cell_type": "code",
   "execution_count": 17,
   "id": "726a390e-cbe4-4f71-9694-d877a8d264b6",
   "metadata": {},
   "outputs": [
    {
     "name": "stdout",
     "output_type": "stream",
     "text": [
      "<bos><Clothing ID>: 232\n",
      "\n",
      "<Age>: 63\n",
      "\n",
      "<Title>: Love this dress!\n",
      "\n",
      "<Review Text>: This dress is absolutely darling! it is light as a feather and floats on the body. the fabric looks almost handpainted and fits like a dream. i disagree with the previous poster and i think it looks very rich. super comfortable and i know i'll get lots of wear out of it. you can dress it up or dress it down. love it!\n",
      "\n",
      "<Positive Feedback Count>: 2<eos>\n"
     ]
    }
   ],
   "source": [
    "print(tokenizer.decode(data[\"input_ids\"][11154]))"
   ]
  },
  {
   "cell_type": "code",
   "execution_count": 18,
   "id": "31a5cd26-9497-4b42-bb7b-25fea02aa34d",
   "metadata": {},
   "outputs": [
    {
     "name": "stderr",
     "output_type": "stream",
     "text": [
      "Unused kwargs: ['_load_in_4bit', '_load_in_8bit', 'quant_method']. These kwargs are not used in <class 'transformers.utils.quantization_config.BitsAndBytesConfig'>.\n",
      "Some weights of Gemma2ForSequenceClassification were not initialized from the model checkpoint at unsloth/gemma-2-9b-it-bnb-4bit and are newly initialized: ['score.weight']\n",
      "You should probably TRAIN this model on a down-stream task to be able to use it for predictions and inference.\n"
     ]
    }
   ],
   "source": [
    "# Load base model on GPU 0\n",
    "device_0 = torch.device('cuda:0')\n",
    "model_0 = Gemma2ForSequenceClassification.from_pretrained(\n",
    "    cfg.gemma_dir,\n",
    "    device_map=device_0,\n",
    "    use_cache=False,\n",
    ")"
   ]
  },
  {
   "cell_type": "code",
   "execution_count": 19,
   "id": "f8c928c8-7fb3-4fd4-a414-38b94f253260",
   "metadata": {},
   "outputs": [],
   "source": [
    "model_0 = PeftModel.from_pretrained(model_0, cfg.lora_dir)"
   ]
  },
  {
   "cell_type": "code",
   "execution_count": 20,
   "id": "65a5d1b5-3615-449c-9ac8-213f0b93f5d9",
   "metadata": {},
   "outputs": [],
   "source": [
    "from tqdm import tqdm\n",
    "\n",
    "@torch.no_grad()\n",
    "@torch.cuda.amp.autocast()\n",
    "def inference(df, model, device, batch_size=cfg.batch_size, max_length=cfg.max_length):\n",
    "    target = []\n",
    "\n",
    "    # tqdmを使用してプログレスバーを表示\n",
    "    progress_bar = tqdm(range(0, len(df), batch_size), desc=\"Inference\")\n",
    "    \n",
    "    for start_idx in range(0, len(df), batch_size):\n",
    "        end_idx = min(start_idx + batch_size, len(df))\n",
    "        tmp = df.iloc[start_idx:end_idx]\n",
    "        input_ids = tmp[\"input_ids\"].to_list()\n",
    "        attention_mask = tmp[\"attention_mask\"].to_list()\n",
    "        inputs = pad_without_fast_tokenizer_warning(\n",
    "            tokenizer,\n",
    "            {\"input_ids\": input_ids, \"attention_mask\": attention_mask},\n",
    "            padding=\"longest\",\n",
    "            pad_to_multiple_of=None,\n",
    "            return_tensors=\"pt\",\n",
    "        )\n",
    "        outputs = model(**inputs.to(device))\n",
    "        proba = outputs.logits.softmax(-1).cpu()\n",
    "        \n",
    "        target.extend(proba[:, 1].tolist())\n",
    "\n",
    "        # オプション: プログレスバーの説明を更新して現在の進捗状況を表示\n",
    "        progress_bar.set_postfix({\"Processed\": f\"{end_idx}/{len(df)}\"})\n",
    "        \n",
    "    \n",
    "    df[\"target\"] = target\n",
    "    \n",
    "    return df"
   ]
  },
  {
   "cell_type": "code",
   "execution_count": 21,
   "id": "eb043863-a2f1-4d7e-83a0-393003d8302a",
   "metadata": {},
   "outputs": [
    {
     "name": "stderr",
     "output_type": "stream",
     "text": [
      "Inference:   0%|          | 0/465 [10:59<?, ?it/s, Processed=11155/11155]\n"
     ]
    }
   ],
   "source": [
    "\"\"\"\n",
    "st = time.time()\n",
    "results = inference(df=data, model=model_0, device=device_0)\n",
    "\n",
    "print(f\"elapsed time: {time.time() - st}\")\n",
    "\"\"\"\n",
    "\n",
    "original_index = data.index.copy()\n",
    "results = inference(df=data.reset_index(drop=True), model=model_0, device=device_0)\n",
    "results = results.set_index(original_index)"
   ]
  },
  {
   "cell_type": "code",
   "execution_count": 22,
   "id": "e786792a-37f5-46b5-afa2-1be335550712",
   "metadata": {},
   "outputs": [
    {
     "data": {
      "text/html": [
       "<div>\n",
       "<style scoped>\n",
       "    .dataframe tbody tr th:only-of-type {\n",
       "        vertical-align: middle;\n",
       "    }\n",
       "\n",
       "    .dataframe tbody tr th {\n",
       "        vertical-align: top;\n",
       "    }\n",
       "\n",
       "    .dataframe thead th {\n",
       "        text-align: right;\n",
       "    }\n",
       "</style>\n",
       "<table border=\"1\" class=\"dataframe\">\n",
       "  <thead>\n",
       "    <tr style=\"text-align: right;\">\n",
       "      <th></th>\n",
       "      <th>input_ids</th>\n",
       "      <th>attention_mask</th>\n",
       "      <th>target</th>\n",
       "    </tr>\n",
       "  </thead>\n",
       "  <tbody>\n",
       "    <tr>\n",
       "      <th>0</th>\n",
       "      <td>[2, 235322, 119323, 4781, 78880, 235248, 23527...</td>\n",
       "      <td>[1, 1, 1, 1, 1, 1, 1, 1, 1, 1, 1, 1, 1, 1, 1, ...</td>\n",
       "      <td>0.998542</td>\n",
       "    </tr>\n",
       "    <tr>\n",
       "      <th>1</th>\n",
       "      <td>[2, 235322, 119323, 4781, 78880, 235248, 23527...</td>\n",
       "      <td>[1, 1, 1, 1, 1, 1, 1, 1, 1, 1, 1, 1, 1, 1, 1, ...</td>\n",
       "      <td>0.574932</td>\n",
       "    </tr>\n",
       "    <tr>\n",
       "      <th>2</th>\n",
       "      <td>[2, 235322, 119323, 4781, 78880, 235248, 23527...</td>\n",
       "      <td>[1, 1, 1, 1, 1, 1, 1, 1, 1, 1, 1, 1, 1, 1, 1, ...</td>\n",
       "      <td>0.996577</td>\n",
       "    </tr>\n",
       "    <tr>\n",
       "      <th>3</th>\n",
       "      <td>[2, 235322, 119323, 4781, 78880, 235248, 23527...</td>\n",
       "      <td>[1, 1, 1, 1, 1, 1, 1, 1, 1, 1, 1, 1, 1, 1, 1, ...</td>\n",
       "      <td>0.133698</td>\n",
       "    </tr>\n",
       "    <tr>\n",
       "      <th>4</th>\n",
       "      <td>[2, 235322, 119323, 4781, 78880, 235248, 23527...</td>\n",
       "      <td>[1, 1, 1, 1, 1, 1, 1, 1, 1, 1, 1, 1, 1, 1, 1, ...</td>\n",
       "      <td>0.997127</td>\n",
       "    </tr>\n",
       "    <tr>\n",
       "      <th>...</th>\n",
       "      <td>...</td>\n",
       "      <td>...</td>\n",
       "      <td>...</td>\n",
       "    </tr>\n",
       "    <tr>\n",
       "      <th>11150</th>\n",
       "      <td>[2, 235322, 119323, 4781, 78880, 235248, 23528...</td>\n",
       "      <td>[1, 1, 1, 1, 1, 1, 1, 1, 1, 1, 1, 1, 1, 1, 1, ...</td>\n",
       "      <td>0.997172</td>\n",
       "    </tr>\n",
       "    <tr>\n",
       "      <th>11151</th>\n",
       "      <td>[2, 235322, 119323, 4781, 78880, 235248, 23528...</td>\n",
       "      <td>[1, 1, 1, 1, 1, 1, 1, 1, 1, 1, 1, 1, 1, 1, 1, ...</td>\n",
       "      <td>0.998427</td>\n",
       "    </tr>\n",
       "    <tr>\n",
       "      <th>11152</th>\n",
       "      <td>[2, 235322, 119323, 4781, 78880, 235248, 23528...</td>\n",
       "      <td>[1, 1, 1, 1, 1, 1, 1, 1, 1, 1, 1, 1, 1, 1, 1, ...</td>\n",
       "      <td>0.997989</td>\n",
       "    </tr>\n",
       "    <tr>\n",
       "      <th>11153</th>\n",
       "      <td>[2, 235322, 119323, 4781, 78880, 235248, 23528...</td>\n",
       "      <td>[1, 1, 1, 1, 1, 1, 1, 1, 1, 1, 1, 1, 1, 1, 1, ...</td>\n",
       "      <td>0.997941</td>\n",
       "    </tr>\n",
       "    <tr>\n",
       "      <th>11154</th>\n",
       "      <td>[2, 235322, 119323, 4781, 78880, 235248, 23528...</td>\n",
       "      <td>[1, 1, 1, 1, 1, 1, 1, 1, 1, 1, 1, 1, 1, 1, 1, ...</td>\n",
       "      <td>0.998976</td>\n",
       "    </tr>\n",
       "  </tbody>\n",
       "</table>\n",
       "<p>11155 rows × 3 columns</p>\n",
       "</div>"
      ],
      "text/plain": [
       "                                               input_ids  \\\n",
       "0      [2, 235322, 119323, 4781, 78880, 235248, 23527...   \n",
       "1      [2, 235322, 119323, 4781, 78880, 235248, 23527...   \n",
       "2      [2, 235322, 119323, 4781, 78880, 235248, 23527...   \n",
       "3      [2, 235322, 119323, 4781, 78880, 235248, 23527...   \n",
       "4      [2, 235322, 119323, 4781, 78880, 235248, 23527...   \n",
       "...                                                  ...   \n",
       "11150  [2, 235322, 119323, 4781, 78880, 235248, 23528...   \n",
       "11151  [2, 235322, 119323, 4781, 78880, 235248, 23528...   \n",
       "11152  [2, 235322, 119323, 4781, 78880, 235248, 23528...   \n",
       "11153  [2, 235322, 119323, 4781, 78880, 235248, 23528...   \n",
       "11154  [2, 235322, 119323, 4781, 78880, 235248, 23528...   \n",
       "\n",
       "                                          attention_mask    target  \n",
       "0      [1, 1, 1, 1, 1, 1, 1, 1, 1, 1, 1, 1, 1, 1, 1, ...  0.998542  \n",
       "1      [1, 1, 1, 1, 1, 1, 1, 1, 1, 1, 1, 1, 1, 1, 1, ...  0.574932  \n",
       "2      [1, 1, 1, 1, 1, 1, 1, 1, 1, 1, 1, 1, 1, 1, 1, ...  0.996577  \n",
       "3      [1, 1, 1, 1, 1, 1, 1, 1, 1, 1, 1, 1, 1, 1, 1, ...  0.133698  \n",
       "4      [1, 1, 1, 1, 1, 1, 1, 1, 1, 1, 1, 1, 1, 1, 1, ...  0.997127  \n",
       "...                                                  ...       ...  \n",
       "11150  [1, 1, 1, 1, 1, 1, 1, 1, 1, 1, 1, 1, 1, 1, 1, ...  0.997172  \n",
       "11151  [1, 1, 1, 1, 1, 1, 1, 1, 1, 1, 1, 1, 1, 1, 1, ...  0.998427  \n",
       "11152  [1, 1, 1, 1, 1, 1, 1, 1, 1, 1, 1, 1, 1, 1, 1, ...  0.997989  \n",
       "11153  [1, 1, 1, 1, 1, 1, 1, 1, 1, 1, 1, 1, 1, 1, 1, ...  0.997941  \n",
       "11154  [1, 1, 1, 1, 1, 1, 1, 1, 1, 1, 1, 1, 1, 1, 1, ...  0.998976  \n",
       "\n",
       "[11155 rows x 3 columns]"
      ]
     },
     "execution_count": 22,
     "metadata": {},
     "output_type": "execute_result"
    }
   ],
   "source": [
    "results"
   ]
  },
  {
   "cell_type": "code",
   "execution_count": 23,
   "id": "37e6cdcc-fb3f-47da-93c6-9de19aa14fe2",
   "metadata": {},
   "outputs": [
    {
     "name": "stdout",
     "output_type": "stream",
     "text": [
      "<bos><Clothing ID>: 165\n",
      "\n",
      "<Age>: 57\n",
      "\n",
      "<Title>: Cool summer skirt.\n",
      "\n",
      "<Review Text>: 1. i'm 5'5\" tall, 145 lbs, and 38-32-40. i wear a size 30 in hyphen chinos and they are loose. i could get in a size 10, but i felt the stretchiness made it look like it was pulling slightly. i decided to get the size 12 even though it was a hair loose.\n",
      "\n",
      "2. the skirt hem is right above my knees. it's not as short as it appears on the model.\n",
      "\n",
      "3. the back pockets are sewn shut, so they won't sag.\n",
      "\n",
      "4. my only complaint is that the hook and eye at the waist pulls away funny, but i'm going to t\n",
      "\n",
      "<Positive Feedback Count>: 10<eos>\n"
     ]
    }
   ],
   "source": [
    "print(tokenizer.decode(results[\"input_ids\"][7863]))"
   ]
  },
  {
   "cell_type": "code",
   "execution_count": 24,
   "id": "cee355b0-5e71-4910-a0e3-c7dc3b0c1ec9",
   "metadata": {},
   "outputs": [
    {
     "name": "stdout",
     "output_type": "stream",
     "text": [
      "<bos><Clothing ID>: 165\n",
      "\n",
      "<Age>: 57\n",
      "\n",
      "<Title>: Cool summer skirt.\n",
      "\n",
      "<Review Text>: 1. i'm 5'5\" tall, 145 lbs, and 38-32-40. i wear a size 30 in hyphen chinos and they are loose. i could get in a size 10, but i felt the stretchiness made it look like it was pulling slightly. i decided to get the size 12 even though it was a hair loose.\n",
      "\n",
      "2. the skirt hem is right above my knees. it's not as short as it appears on the model.\n",
      "\n",
      "3. the back pockets are sewn shut, so they won't sag.\n",
      "\n",
      "4. my only complaint is that the hook and eye at the waist pulls away funny, but i'm going to t\n",
      "\n",
      "<Positive Feedback Count>: 10<eos>\n"
     ]
    }
   ],
   "source": [
    "print(tokenizer.decode(data[\"input_ids\"][7863]))"
   ]
  },
  {
   "cell_type": "code",
   "execution_count": 25,
   "id": "d765a143-5774-4b28-9ba5-93624bfcadd9",
   "metadata": {},
   "outputs": [],
   "source": [
    "#results.reset_index(drop=True)"
   ]
  },
  {
   "cell_type": "code",
   "execution_count": 26,
   "id": "da9623a8-3834-4dd3-99c3-56efd49e896c",
   "metadata": {},
   "outputs": [
    {
     "data": {
      "text/plain": [
       "'I purchased this dress on a whim. it is easy to wear and very comfortable.  the empire waist is flattering. however, the dress runs large and the lower half is a-line. the neckline is very flattering and you feel put together when wearing this dress.\\r\\ni am happy to have it in my wardrobe. a go-to piece for years to come.'"
      ]
     },
     "execution_count": 26,
     "metadata": {},
     "output_type": "execute_result"
    }
   ],
   "source": [
    "test.iloc[11150][\"Review Text\"]"
   ]
  },
  {
   "cell_type": "code",
   "execution_count": 27,
   "id": "22d46fe5-c171-4103-9556-9cc38489676f",
   "metadata": {},
   "outputs": [
    {
     "data": {
      "text/html": [
       "<div>\n",
       "<style scoped>\n",
       "    .dataframe tbody tr th:only-of-type {\n",
       "        vertical-align: middle;\n",
       "    }\n",
       "\n",
       "    .dataframe tbody tr th {\n",
       "        vertical-align: top;\n",
       "    }\n",
       "\n",
       "    .dataframe thead th {\n",
       "        text-align: right;\n",
       "    }\n",
       "</style>\n",
       "<table border=\"1\" class=\"dataframe\">\n",
       "  <thead>\n",
       "    <tr style=\"text-align: right;\">\n",
       "      <th></th>\n",
       "      <th>target</th>\n",
       "    </tr>\n",
       "  </thead>\n",
       "  <tbody>\n",
       "    <tr>\n",
       "      <th>0</th>\n",
       "      <td>0.488567</td>\n",
       "    </tr>\n",
       "    <tr>\n",
       "      <th>1</th>\n",
       "      <td>0.315813</td>\n",
       "    </tr>\n",
       "    <tr>\n",
       "      <th>2</th>\n",
       "      <td>0.764448</td>\n",
       "    </tr>\n",
       "    <tr>\n",
       "      <th>3</th>\n",
       "      <td>0.980691</td>\n",
       "    </tr>\n",
       "    <tr>\n",
       "      <th>4</th>\n",
       "      <td>0.406762</td>\n",
       "    </tr>\n",
       "    <tr>\n",
       "      <th>...</th>\n",
       "      <td>...</td>\n",
       "    </tr>\n",
       "    <tr>\n",
       "      <th>11150</th>\n",
       "      <td>0.922096</td>\n",
       "    </tr>\n",
       "    <tr>\n",
       "      <th>11151</th>\n",
       "      <td>0.692480</td>\n",
       "    </tr>\n",
       "    <tr>\n",
       "      <th>11152</th>\n",
       "      <td>0.236563</td>\n",
       "    </tr>\n",
       "    <tr>\n",
       "      <th>11153</th>\n",
       "      <td>0.267781</td>\n",
       "    </tr>\n",
       "    <tr>\n",
       "      <th>11154</th>\n",
       "      <td>0.177353</td>\n",
       "    </tr>\n",
       "  </tbody>\n",
       "</table>\n",
       "<p>11155 rows × 1 columns</p>\n",
       "</div>"
      ],
      "text/plain": [
       "         target\n",
       "0      0.488567\n",
       "1      0.315813\n",
       "2      0.764448\n",
       "3      0.980691\n",
       "4      0.406762\n",
       "...         ...\n",
       "11150  0.922096\n",
       "11151  0.692480\n",
       "11152  0.236563\n",
       "11153  0.267781\n",
       "11154  0.177353\n",
       "\n",
       "[11155 rows x 1 columns]"
      ]
     },
     "execution_count": 27,
     "metadata": {},
     "output_type": "execute_result"
    }
   ],
   "source": [
    "sample_submission = pd.read_csv(\"../sample_submission.csv\")\n",
    "sample_submission"
   ]
  },
  {
   "cell_type": "code",
   "execution_count": 28,
   "id": "2d0eeef5-d2b3-4e67-a500-81b763452999",
   "metadata": {},
   "outputs": [
    {
     "data": {
      "text/html": [
       "<div>\n",
       "<style scoped>\n",
       "    .dataframe tbody tr th:only-of-type {\n",
       "        vertical-align: middle;\n",
       "    }\n",
       "\n",
       "    .dataframe tbody tr th {\n",
       "        vertical-align: top;\n",
       "    }\n",
       "\n",
       "    .dataframe thead th {\n",
       "        text-align: right;\n",
       "    }\n",
       "</style>\n",
       "<table border=\"1\" class=\"dataframe\">\n",
       "  <thead>\n",
       "    <tr style=\"text-align: right;\">\n",
       "      <th></th>\n",
       "      <th>input_ids</th>\n",
       "      <th>attention_mask</th>\n",
       "      <th>target</th>\n",
       "    </tr>\n",
       "  </thead>\n",
       "  <tbody>\n",
       "    <tr>\n",
       "      <th>0</th>\n",
       "      <td>[2, 235322, 119323, 4781, 78880, 235248, 23527...</td>\n",
       "      <td>[1, 1, 1, 1, 1, 1, 1, 1, 1, 1, 1, 1, 1, 1, 1, ...</td>\n",
       "      <td>0.998542</td>\n",
       "    </tr>\n",
       "    <tr>\n",
       "      <th>1</th>\n",
       "      <td>[2, 235322, 119323, 4781, 78880, 235248, 23527...</td>\n",
       "      <td>[1, 1, 1, 1, 1, 1, 1, 1, 1, 1, 1, 1, 1, 1, 1, ...</td>\n",
       "      <td>0.574932</td>\n",
       "    </tr>\n",
       "    <tr>\n",
       "      <th>2</th>\n",
       "      <td>[2, 235322, 119323, 4781, 78880, 235248, 23527...</td>\n",
       "      <td>[1, 1, 1, 1, 1, 1, 1, 1, 1, 1, 1, 1, 1, 1, 1, ...</td>\n",
       "      <td>0.996577</td>\n",
       "    </tr>\n",
       "    <tr>\n",
       "      <th>3</th>\n",
       "      <td>[2, 235322, 119323, 4781, 78880, 235248, 23527...</td>\n",
       "      <td>[1, 1, 1, 1, 1, 1, 1, 1, 1, 1, 1, 1, 1, 1, 1, ...</td>\n",
       "      <td>0.133698</td>\n",
       "    </tr>\n",
       "    <tr>\n",
       "      <th>4</th>\n",
       "      <td>[2, 235322, 119323, 4781, 78880, 235248, 23527...</td>\n",
       "      <td>[1, 1, 1, 1, 1, 1, 1, 1, 1, 1, 1, 1, 1, 1, 1, ...</td>\n",
       "      <td>0.997127</td>\n",
       "    </tr>\n",
       "    <tr>\n",
       "      <th>...</th>\n",
       "      <td>...</td>\n",
       "      <td>...</td>\n",
       "      <td>...</td>\n",
       "    </tr>\n",
       "    <tr>\n",
       "      <th>11150</th>\n",
       "      <td>[2, 235322, 119323, 4781, 78880, 235248, 23528...</td>\n",
       "      <td>[1, 1, 1, 1, 1, 1, 1, 1, 1, 1, 1, 1, 1, 1, 1, ...</td>\n",
       "      <td>0.997172</td>\n",
       "    </tr>\n",
       "    <tr>\n",
       "      <th>11151</th>\n",
       "      <td>[2, 235322, 119323, 4781, 78880, 235248, 23528...</td>\n",
       "      <td>[1, 1, 1, 1, 1, 1, 1, 1, 1, 1, 1, 1, 1, 1, 1, ...</td>\n",
       "      <td>0.998427</td>\n",
       "    </tr>\n",
       "    <tr>\n",
       "      <th>11152</th>\n",
       "      <td>[2, 235322, 119323, 4781, 78880, 235248, 23528...</td>\n",
       "      <td>[1, 1, 1, 1, 1, 1, 1, 1, 1, 1, 1, 1, 1, 1, 1, ...</td>\n",
       "      <td>0.997989</td>\n",
       "    </tr>\n",
       "    <tr>\n",
       "      <th>11153</th>\n",
       "      <td>[2, 235322, 119323, 4781, 78880, 235248, 23528...</td>\n",
       "      <td>[1, 1, 1, 1, 1, 1, 1, 1, 1, 1, 1, 1, 1, 1, 1, ...</td>\n",
       "      <td>0.997941</td>\n",
       "    </tr>\n",
       "    <tr>\n",
       "      <th>11154</th>\n",
       "      <td>[2, 235322, 119323, 4781, 78880, 235248, 23528...</td>\n",
       "      <td>[1, 1, 1, 1, 1, 1, 1, 1, 1, 1, 1, 1, 1, 1, 1, ...</td>\n",
       "      <td>0.998976</td>\n",
       "    </tr>\n",
       "  </tbody>\n",
       "</table>\n",
       "<p>11155 rows × 3 columns</p>\n",
       "</div>"
      ],
      "text/plain": [
       "                                               input_ids  \\\n",
       "0      [2, 235322, 119323, 4781, 78880, 235248, 23527...   \n",
       "1      [2, 235322, 119323, 4781, 78880, 235248, 23527...   \n",
       "2      [2, 235322, 119323, 4781, 78880, 235248, 23527...   \n",
       "3      [2, 235322, 119323, 4781, 78880, 235248, 23527...   \n",
       "4      [2, 235322, 119323, 4781, 78880, 235248, 23527...   \n",
       "...                                                  ...   \n",
       "11150  [2, 235322, 119323, 4781, 78880, 235248, 23528...   \n",
       "11151  [2, 235322, 119323, 4781, 78880, 235248, 23528...   \n",
       "11152  [2, 235322, 119323, 4781, 78880, 235248, 23528...   \n",
       "11153  [2, 235322, 119323, 4781, 78880, 235248, 23528...   \n",
       "11154  [2, 235322, 119323, 4781, 78880, 235248, 23528...   \n",
       "\n",
       "                                          attention_mask    target  \n",
       "0      [1, 1, 1, 1, 1, 1, 1, 1, 1, 1, 1, 1, 1, 1, 1, ...  0.998542  \n",
       "1      [1, 1, 1, 1, 1, 1, 1, 1, 1, 1, 1, 1, 1, 1, 1, ...  0.574932  \n",
       "2      [1, 1, 1, 1, 1, 1, 1, 1, 1, 1, 1, 1, 1, 1, 1, ...  0.996577  \n",
       "3      [1, 1, 1, 1, 1, 1, 1, 1, 1, 1, 1, 1, 1, 1, 1, ...  0.133698  \n",
       "4      [1, 1, 1, 1, 1, 1, 1, 1, 1, 1, 1, 1, 1, 1, 1, ...  0.997127  \n",
       "...                                                  ...       ...  \n",
       "11150  [1, 1, 1, 1, 1, 1, 1, 1, 1, 1, 1, 1, 1, 1, 1, ...  0.997172  \n",
       "11151  [1, 1, 1, 1, 1, 1, 1, 1, 1, 1, 1, 1, 1, 1, 1, ...  0.998427  \n",
       "11152  [1, 1, 1, 1, 1, 1, 1, 1, 1, 1, 1, 1, 1, 1, 1, ...  0.997989  \n",
       "11153  [1, 1, 1, 1, 1, 1, 1, 1, 1, 1, 1, 1, 1, 1, 1, ...  0.997941  \n",
       "11154  [1, 1, 1, 1, 1, 1, 1, 1, 1, 1, 1, 1, 1, 1, 1, ...  0.998976  \n",
       "\n",
       "[11155 rows x 3 columns]"
      ]
     },
     "execution_count": 28,
     "metadata": {},
     "output_type": "execute_result"
    }
   ],
   "source": [
    "results.reset_index(drop=True)"
   ]
  },
  {
   "cell_type": "code",
   "execution_count": 29,
   "id": "4f788c46-b648-4f6f-a270-ec1399b8735c",
   "metadata": {},
   "outputs": [],
   "source": [
    "y_pred = results.reset_index(drop=True)[\"target\"]"
   ]
  },
  {
   "cell_type": "code",
   "execution_count": 30,
   "id": "de59c8df-ef7f-4ef2-8fe4-a27ffc2e5579",
   "metadata": {},
   "outputs": [
    {
     "data": {
      "text/html": [
       "<div>\n",
       "<style scoped>\n",
       "    .dataframe tbody tr th:only-of-type {\n",
       "        vertical-align: middle;\n",
       "    }\n",
       "\n",
       "    .dataframe tbody tr th {\n",
       "        vertical-align: top;\n",
       "    }\n",
       "\n",
       "    .dataframe thead th {\n",
       "        text-align: right;\n",
       "    }\n",
       "</style>\n",
       "<table border=\"1\" class=\"dataframe\">\n",
       "  <thead>\n",
       "    <tr style=\"text-align: right;\">\n",
       "      <th></th>\n",
       "      <th>target</th>\n",
       "    </tr>\n",
       "  </thead>\n",
       "  <tbody>\n",
       "    <tr>\n",
       "      <th>0</th>\n",
       "      <td>0.998542</td>\n",
       "    </tr>\n",
       "    <tr>\n",
       "      <th>1</th>\n",
       "      <td>0.574932</td>\n",
       "    </tr>\n",
       "    <tr>\n",
       "      <th>2</th>\n",
       "      <td>0.996577</td>\n",
       "    </tr>\n",
       "    <tr>\n",
       "      <th>3</th>\n",
       "      <td>0.133698</td>\n",
       "    </tr>\n",
       "    <tr>\n",
       "      <th>4</th>\n",
       "      <td>0.997127</td>\n",
       "    </tr>\n",
       "    <tr>\n",
       "      <th>...</th>\n",
       "      <td>...</td>\n",
       "    </tr>\n",
       "    <tr>\n",
       "      <th>11150</th>\n",
       "      <td>0.997172</td>\n",
       "    </tr>\n",
       "    <tr>\n",
       "      <th>11151</th>\n",
       "      <td>0.998427</td>\n",
       "    </tr>\n",
       "    <tr>\n",
       "      <th>11152</th>\n",
       "      <td>0.997989</td>\n",
       "    </tr>\n",
       "    <tr>\n",
       "      <th>11153</th>\n",
       "      <td>0.997941</td>\n",
       "    </tr>\n",
       "    <tr>\n",
       "      <th>11154</th>\n",
       "      <td>0.998976</td>\n",
       "    </tr>\n",
       "  </tbody>\n",
       "</table>\n",
       "<p>11155 rows × 1 columns</p>\n",
       "</div>"
      ],
      "text/plain": [
       "         target\n",
       "0      0.998542\n",
       "1      0.574932\n",
       "2      0.996577\n",
       "3      0.133698\n",
       "4      0.997127\n",
       "...         ...\n",
       "11150  0.997172\n",
       "11151  0.998427\n",
       "11152  0.997989\n",
       "11153  0.997941\n",
       "11154  0.998976\n",
       "\n",
       "[11155 rows x 1 columns]"
      ]
     },
     "execution_count": 30,
     "metadata": {},
     "output_type": "execute_result"
    }
   ],
   "source": [
    "sample_submission['target'] = y_pred\n",
    "sample_submission"
   ]
  },
  {
   "cell_type": "code",
   "execution_count": 31,
   "id": "b7643a7d-80de-4488-bbb7-371d55328c3d",
   "metadata": {},
   "outputs": [
    {
     "data": {
      "image/png": "[encoded data removed]",
      "text/plain": [
       "<Figure size 800x600 with 1 Axes>"
      ]
     },
     "metadata": {},
     "output_type": "display_data"
    }
   ],
   "source": [
    "import matplotlib.pyplot as plt\n",
    "\n",
    "fig, ax = plt.subplots(figsize=(8, 6))\n",
    "\n",
    "vmax = .02\n",
    "bins = np.linspace(0, 1, 100)\n",
    "ax.hist(sample_submission['target'], bins=bins, density=True, alpha=.5, label=\"Test\")\n",
    "ax.grid()\n",
    "ax.legend()\n",
    "# ax.set_title(\"テストと学習時の予測傾向差分\")\n",
    "\n",
    "fig.tight_layout()"
   ]
  },
  {
   "cell_type": "code",
   "execution_count": 32,
   "id": "c9f9b972-4361-4fe5-8b8c-8018e6a58ed9",
   "metadata": {},
   "outputs": [
    {
     "data": {
      "text/html": [
       "<div>\n",
       "<style scoped>\n",
       "    .dataframe tbody tr th:only-of-type {\n",
       "        vertical-align: middle;\n",
       "    }\n",
       "\n",
       "    .dataframe tbody tr th {\n",
       "        vertical-align: top;\n",
       "    }\n",
       "\n",
       "    .dataframe thead th {\n",
       "        text-align: right;\n",
       "    }\n",
       "</style>\n",
       "<table border=\"1\" class=\"dataframe\">\n",
       "  <thead>\n",
       "    <tr style=\"text-align: right;\">\n",
       "      <th></th>\n",
       "      <th>target</th>\n",
       "    </tr>\n",
       "  </thead>\n",
       "  <tbody>\n",
       "    <tr>\n",
       "      <th>0</th>\n",
       "      <td>0.998542</td>\n",
       "    </tr>\n",
       "    <tr>\n",
       "      <th>1</th>\n",
       "      <td>0.574932</td>\n",
       "    </tr>\n",
       "    <tr>\n",
       "      <th>2</th>\n",
       "      <td>0.996577</td>\n",
       "    </tr>\n",
       "    <tr>\n",
       "      <th>3</th>\n",
       "      <td>0.133698</td>\n",
       "    </tr>\n",
       "    <tr>\n",
       "      <th>4</th>\n",
       "      <td>0.997127</td>\n",
       "    </tr>\n",
       "    <tr>\n",
       "      <th>...</th>\n",
       "      <td>...</td>\n",
       "    </tr>\n",
       "    <tr>\n",
       "      <th>11150</th>\n",
       "      <td>0.997172</td>\n",
       "    </tr>\n",
       "    <tr>\n",
       "      <th>11151</th>\n",
       "      <td>0.998427</td>\n",
       "    </tr>\n",
       "    <tr>\n",
       "      <th>11152</th>\n",
       "      <td>0.997989</td>\n",
       "    </tr>\n",
       "    <tr>\n",
       "      <th>11153</th>\n",
       "      <td>0.997941</td>\n",
       "    </tr>\n",
       "    <tr>\n",
       "      <th>11154</th>\n",
       "      <td>0.998976</td>\n",
       "    </tr>\n",
       "  </tbody>\n",
       "</table>\n",
       "<p>11155 rows × 1 columns</p>\n",
       "</div>"
      ],
      "text/plain": [
       "         target\n",
       "0      0.998542\n",
       "1      0.574932\n",
       "2      0.996577\n",
       "3      0.133698\n",
       "4      0.997127\n",
       "...         ...\n",
       "11150  0.997172\n",
       "11151  0.998427\n",
       "11152  0.997989\n",
       "11153  0.997941\n",
       "11154  0.998976\n",
       "\n",
       "[11155 rows x 1 columns]"
      ]
     },
     "execution_count": 32,
     "metadata": {},
     "output_type": "execute_result"
    }
   ],
   "source": [
    "sample_submission"
   ]
  },
  {
   "cell_type": "code",
   "execution_count": 33,
   "id": "acf2f754-ba0b-4820-86ed-9469c932eb87",
   "metadata": {},
   "outputs": [],
   "source": [
    "assert sample_submission[\"target\"].equals(results.reset_index(drop=True)[\"target\"])"
   ]
  },
  {
   "cell_type": "code",
   "execution_count": 34,
   "id": "c6404839-0fbb-43cf-9255-a8acfb85131e",
   "metadata": {},
   "outputs": [],
   "source": [
    "sample_submission.to_csv('gemma_ver7_infer.csv', index=False)"
   ]
  },
  {
   "cell_type": "code",
   "execution_count": null,
   "id": "7017e15b-d003-4053-8c0a-49ccfe56196e",
   "metadata": {},
   "outputs": [],
   "source": []
  }
 ],
 "metadata": {
  "kernelspec": {
   "display_name": "Python 3 (ipykernel)",
   "language": "python",
   "name": "python3"
  },
  "language_info": {
   "codemirror_mode": {
    "name": "ipython",
    "version": 3
   },
   "file_extension": ".py",
   "mimetype": "text/x-python",
   "name": "python",
   "nbconvert_exporter": "python",
   "pygments_lexer": "ipython3",
   "version": "3.10.13"
  }
 },
 "nbformat": 4,
 "nbformat_minor": 5
}
