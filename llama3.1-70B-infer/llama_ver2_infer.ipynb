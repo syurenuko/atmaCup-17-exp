{
 "cells": [
  {
   "cell_type": "code",
   "execution_count": 1,
   "id": "812f366d-097c-41ce-96a3-a17c66a2c126",
   "metadata": {},
   "outputs": [],
   "source": [
    "# https://www.kaggle.com/code/emiz6413/training-gemma-2-9b-4-bit-qlora-fine-tuning"
   ]
  },
  {
   "cell_type": "code",
   "execution_count": 2,
   "id": "6ac3f545-0fe2-4ddd-927b-64757913d76a",
   "metadata": {},
   "outputs": [
    {
     "name": "stdout",
     "output_type": "stream",
     "text": [
      "Requirement already satisfied: transformers>=4.42.3 in /opt/conda/lib/python3.10/site-packages (4.44.2)\n",
      "Requirement already satisfied: bitsandbytes in /opt/conda/lib/python3.10/site-packages (0.43.3)\n",
      "Requirement already satisfied: accelerate in /opt/conda/lib/python3.10/site-packages (0.33.0)\n",
      "Requirement already satisfied: peft in /opt/conda/lib/python3.10/site-packages (0.12.0)\n",
      "Requirement already satisfied: filelock in /opt/conda/lib/python3.10/site-packages (from transformers>=4.42.3) (3.13.1)\n",
      "Requirement already satisfied: huggingface-hub<1.0,>=0.23.2 in /opt/conda/lib/python3.10/site-packages (from transformers>=4.42.3) (0.24.6)\n",
      "Requirement already satisfied: numpy>=1.17 in /opt/conda/lib/python3.10/site-packages (from transformers>=4.42.3) (1.26.3)\n",
      "Requirement already satisfied: packaging>=20.0 in /opt/conda/lib/python3.10/site-packages (from transformers>=4.42.3) (23.1)\n",
      "Requirement already satisfied: pyyaml>=5.1 in /opt/conda/lib/python3.10/site-packages (from transformers>=4.42.3) (6.0.1)\n",
      "Requirement already satisfied: regex!=2019.12.17 in /opt/conda/lib/python3.10/site-packages (from transformers>=4.42.3) (2024.7.24)\n",
      "Requirement already satisfied: requests in /opt/conda/lib/python3.10/site-packages (from transformers>=4.42.3) (2.32.3)\n",
      "Requirement already satisfied: safetensors>=0.4.1 in /opt/conda/lib/python3.10/site-packages (from transformers>=4.42.3) (0.4.4)\n",
      "Requirement already satisfied: tokenizers<0.20,>=0.19 in /opt/conda/lib/python3.10/site-packages (from transformers>=4.42.3) (0.19.1)\n",
      "Requirement already satisfied: tqdm>=4.27 in /opt/conda/lib/python3.10/site-packages (from transformers>=4.42.3) (4.66.5)\n",
      "Requirement already satisfied: torch in /opt/conda/lib/python3.10/site-packages (from bitsandbytes) (2.2.0)\n",
      "Requirement already satisfied: psutil in /opt/conda/lib/python3.10/site-packages (from accelerate) (5.9.0)\n",
      "Requirement already satisfied: fsspec>=2023.5.0 in /opt/conda/lib/python3.10/site-packages (from huggingface-hub<1.0,>=0.23.2->transformers>=4.42.3) (2023.12.2)\n",
      "Requirement already satisfied: typing-extensions>=3.7.4.3 in /opt/conda/lib/python3.10/site-packages (from huggingface-hub<1.0,>=0.23.2->transformers>=4.42.3) (4.9.0)\n",
      "Requirement already satisfied: sympy in /opt/conda/lib/python3.10/site-packages (from torch->bitsandbytes) (1.12)\n",
      "Requirement already satisfied: networkx in /opt/conda/lib/python3.10/site-packages (from torch->bitsandbytes) (3.1)\n",
      "Requirement already satisfied: jinja2 in /opt/conda/lib/python3.10/site-packages (from torch->bitsandbytes) (3.1.2)\n",
      "Requirement already satisfied: charset-normalizer<4,>=2 in /opt/conda/lib/python3.10/site-packages (from requests->transformers>=4.42.3) (2.0.4)\n",
      "Requirement already satisfied: idna<4,>=2.5 in /opt/conda/lib/python3.10/site-packages (from requests->transformers>=4.42.3) (3.4)\n",
      "Requirement already satisfied: urllib3<3,>=1.21.1 in /opt/conda/lib/python3.10/site-packages (from requests->transformers>=4.42.3) (1.26.18)\n",
      "Requirement already satisfied: certifi>=2017.4.17 in /opt/conda/lib/python3.10/site-packages (from requests->transformers>=4.42.3) (2023.11.17)\n",
      "Requirement already satisfied: MarkupSafe>=2.0 in /opt/conda/lib/python3.10/site-packages (from jinja2->torch->bitsandbytes) (2.1.3)\n",
      "Requirement already satisfied: mpmath>=0.19 in /opt/conda/lib/python3.10/site-packages (from sympy->torch->bitsandbytes) (1.3.0)\n",
      "\u001b[33mWARNING: Running pip as the 'root' user can result in broken permissions and conflicting behaviour with the system package manager. It is recommended to use a virtual environment instead: https://pip.pypa.io/warnings/venv\u001b[0m\u001b[33m\n",
      "\u001b[0m"
     ]
    }
   ],
   "source": [
    "# gemma-2 is available from transformers>=4.42.3\n",
    "!pip install -U \"transformers>=4.42.3\" bitsandbytes accelerate peft"
   ]
  },
  {
   "cell_type": "code",
   "execution_count": 3,
   "id": "0bb53cdc-7d8e-41f8-aec4-f39dbb2a952d",
   "metadata": {},
   "outputs": [
    {
     "name": "stdout",
     "output_type": "stream",
     "text": [
      "Requirement already satisfied: datasets in /opt/conda/lib/python3.10/site-packages (2.21.0)\n",
      "Requirement already satisfied: filelock in /opt/conda/lib/python3.10/site-packages (from datasets) (3.13.1)\n",
      "Requirement already satisfied: numpy>=1.17 in /opt/conda/lib/python3.10/site-packages (from datasets) (1.26.3)\n",
      "Requirement already satisfied: pyarrow>=15.0.0 in /opt/conda/lib/python3.10/site-packages (from datasets) (17.0.0)\n",
      "Requirement already satisfied: dill<0.3.9,>=0.3.0 in /opt/conda/lib/python3.10/site-packages (from datasets) (0.3.8)\n",
      "Requirement already satisfied: pandas in /opt/conda/lib/python3.10/site-packages (from datasets) (2.2.2)\n",
      "Requirement already satisfied: requests>=2.32.2 in /opt/conda/lib/python3.10/site-packages (from datasets) (2.32.3)\n",
      "Requirement already satisfied: tqdm>=4.66.3 in /opt/conda/lib/python3.10/site-packages (from datasets) (4.66.5)\n",
      "Requirement already satisfied: xxhash in /opt/conda/lib/python3.10/site-packages (from datasets) (3.5.0)\n",
      "Requirement already satisfied: multiprocess in /opt/conda/lib/python3.10/site-packages (from datasets) (0.70.16)\n",
      "Requirement already satisfied: fsspec<=2024.6.1,>=2023.1.0 in /opt/conda/lib/python3.10/site-packages (from fsspec[http]<=2024.6.1,>=2023.1.0->datasets) (2023.12.2)\n",
      "Requirement already satisfied: aiohttp in /opt/conda/lib/python3.10/site-packages (from datasets) (3.10.5)\n",
      "Requirement already satisfied: huggingface-hub>=0.21.2 in /opt/conda/lib/python3.10/site-packages (from datasets) (0.24.6)\n",
      "Requirement already satisfied: packaging in /opt/conda/lib/python3.10/site-packages (from datasets) (23.1)\n",
      "Requirement already satisfied: pyyaml>=5.1 in /opt/conda/lib/python3.10/site-packages (from datasets) (6.0.1)\n",
      "Requirement already satisfied: aiohappyeyeballs>=2.3.0 in /opt/conda/lib/python3.10/site-packages (from aiohttp->datasets) (2.4.0)\n",
      "Requirement already satisfied: aiosignal>=1.1.2 in /opt/conda/lib/python3.10/site-packages (from aiohttp->datasets) (1.3.1)\n",
      "Requirement already satisfied: attrs>=17.3.0 in /opt/conda/lib/python3.10/site-packages (from aiohttp->datasets) (23.1.0)\n",
      "Requirement already satisfied: frozenlist>=1.1.1 in /opt/conda/lib/python3.10/site-packages (from aiohttp->datasets) (1.4.1)\n",
      "Requirement already satisfied: multidict<7.0,>=4.5 in /opt/conda/lib/python3.10/site-packages (from aiohttp->datasets) (6.0.5)\n",
      "Requirement already satisfied: yarl<2.0,>=1.0 in /opt/conda/lib/python3.10/site-packages (from aiohttp->datasets) (1.9.4)\n",
      "Requirement already satisfied: async-timeout<5.0,>=4.0 in /opt/conda/lib/python3.10/site-packages (from aiohttp->datasets) (4.0.3)\n",
      "Requirement already satisfied: typing-extensions>=3.7.4.3 in /opt/conda/lib/python3.10/site-packages (from huggingface-hub>=0.21.2->datasets) (4.9.0)\n",
      "Requirement already satisfied: charset-normalizer<4,>=2 in /opt/conda/lib/python3.10/site-packages (from requests>=2.32.2->datasets) (2.0.4)\n",
      "Requirement already satisfied: idna<4,>=2.5 in /opt/conda/lib/python3.10/site-packages (from requests>=2.32.2->datasets) (3.4)\n",
      "Requirement already satisfied: urllib3<3,>=1.21.1 in /opt/conda/lib/python3.10/site-packages (from requests>=2.32.2->datasets) (1.26.18)\n",
      "Requirement already satisfied: certifi>=2017.4.17 in /opt/conda/lib/python3.10/site-packages (from requests>=2.32.2->datasets) (2023.11.17)\n",
      "Requirement already satisfied: python-dateutil>=2.8.2 in /opt/conda/lib/python3.10/site-packages (from pandas->datasets) (2.9.0.post0)\n",
      "Requirement already satisfied: pytz>=2020.1 in /opt/conda/lib/python3.10/site-packages (from pandas->datasets) (2023.3.post1)\n",
      "Requirement already satisfied: tzdata>=2022.7 in /opt/conda/lib/python3.10/site-packages (from pandas->datasets) (2024.1)\n",
      "Requirement already satisfied: six>=1.5 in /opt/conda/lib/python3.10/site-packages (from python-dateutil>=2.8.2->pandas->datasets) (1.16.0)\n",
      "\u001b[33mWARNING: Running pip as the 'root' user can result in broken permissions and conflicting behaviour with the system package manager. It is recommended to use a virtual environment instead: https://pip.pypa.io/warnings/venv\u001b[0m\u001b[33m\n",
      "\u001b[0m"
     ]
    }
   ],
   "source": [
    "!pip install datasets"
   ]
  },
  {
   "cell_type": "code",
   "execution_count": 4,
   "id": "1996b1da-b295-41f8-a018-a4be4a56dcea",
   "metadata": {},
   "outputs": [
    {
     "name": "stdout",
     "output_type": "stream",
     "text": [
      "Requirement already satisfied: scikit-learn in /opt/conda/lib/python3.10/site-packages (1.5.1)\n",
      "Requirement already satisfied: numpy>=1.19.5 in /opt/conda/lib/python3.10/site-packages (from scikit-learn) (1.26.3)\n",
      "Requirement already satisfied: scipy>=1.6.0 in /opt/conda/lib/python3.10/site-packages (from scikit-learn) (1.14.1)\n",
      "Requirement already satisfied: joblib>=1.2.0 in /opt/conda/lib/python3.10/site-packages (from scikit-learn) (1.4.2)\n",
      "Requirement already satisfied: threadpoolctl>=3.1.0 in /opt/conda/lib/python3.10/site-packages (from scikit-learn) (3.5.0)\n",
      "\u001b[33mWARNING: Running pip as the 'root' user can result in broken permissions and conflicting behaviour with the system package manager. It is recommended to use a virtual environment instead: https://pip.pypa.io/warnings/venv\u001b[0m\u001b[33m\n",
      "\u001b[0m"
     ]
    }
   ],
   "source": [
    "!pip install scikit-learn"
   ]
  },
  {
   "cell_type": "code",
   "execution_count": 5,
   "id": "d7b56dde-e63d-45a7-8980-90bc26951536",
   "metadata": {},
   "outputs": [
    {
     "name": "stdout",
     "output_type": "stream",
     "text": [
      "Requirement already satisfied: matplotlib in /opt/conda/lib/python3.10/site-packages (3.9.2)\n",
      "Requirement already satisfied: contourpy>=1.0.1 in /opt/conda/lib/python3.10/site-packages (from matplotlib) (1.3.0)\n",
      "Requirement already satisfied: cycler>=0.10 in /opt/conda/lib/python3.10/site-packages (from matplotlib) (0.12.1)\n",
      "Requirement already satisfied: fonttools>=4.22.0 in /opt/conda/lib/python3.10/site-packages (from matplotlib) (4.53.1)\n",
      "Requirement already satisfied: kiwisolver>=1.3.1 in /opt/conda/lib/python3.10/site-packages (from matplotlib) (1.4.5)\n",
      "Requirement already satisfied: numpy>=1.23 in /opt/conda/lib/python3.10/site-packages (from matplotlib) (1.26.3)\n",
      "Requirement already satisfied: packaging>=20.0 in /opt/conda/lib/python3.10/site-packages (from matplotlib) (23.1)\n",
      "Requirement already satisfied: pillow>=8 in /opt/conda/lib/python3.10/site-packages (from matplotlib) (10.0.1)\n",
      "Requirement already satisfied: pyparsing>=2.3.1 in /opt/conda/lib/python3.10/site-packages (from matplotlib) (3.1.4)\n",
      "Requirement already satisfied: python-dateutil>=2.7 in /opt/conda/lib/python3.10/site-packages (from matplotlib) (2.9.0.post0)\n",
      "Requirement already satisfied: six>=1.5 in /opt/conda/lib/python3.10/site-packages (from python-dateutil>=2.7->matplotlib) (1.16.0)\n",
      "\u001b[33mWARNING: Running pip as the 'root' user can result in broken permissions and conflicting behaviour with the system package manager. It is recommended to use a virtual environment instead: https://pip.pypa.io/warnings/venv\u001b[0m\u001b[33m\n",
      "\u001b[0m"
     ]
    }
   ],
   "source": [
    "!pip install matplotlib"
   ]
  },
  {
   "cell_type": "code",
   "execution_count": 6,
   "id": "46d63357-0527-45e8-a3ff-8d4013613ee5",
   "metadata": {},
   "outputs": [],
   "source": [
    "import time\n",
    "from dataclasses import dataclass\n",
    "from concurrent.futures import ThreadPoolExecutor\n",
    "\n",
    "import torch\n",
    "import sklearn\n",
    "import numpy as np\n",
    "import pandas as pd\n",
    "from transformers import LlamaForSequenceClassification, AutoTokenizer, BitsAndBytesConfig\n",
    "from transformers.data.data_collator import pad_without_fast_tokenizer_warning\n",
    "from peft import PeftModel"
   ]
  },
  {
   "cell_type": "code",
   "execution_count": 7,
   "id": "0232a273-29a7-443f-9094-1ee336fc6f5a",
   "metadata": {},
   "outputs": [],
   "source": [
    "@dataclass\n",
    "class Config:\n",
    "    llama_dir = 'unsloth/Meta-Llama-3.1-70B-Instruct-bnb-4bit'\n",
    "    lora_dir = 'llama002/checkpoint-416'\n",
    "    max_length = 256\n",
    "    batch_size = 24#global_batch_size\n",
    "    device = torch.device(\"cuda\")    \n",
    "\n",
    "cfg = Config()"
   ]
  },
  {
   "cell_type": "code",
   "execution_count": 8,
   "id": "27fba8b2-20a0-4b82-8b46-ccf1f2579c1b",
   "metadata": {},
   "outputs": [],
   "source": [
    "# テストデータの読み込み\n",
    "test = pd.read_csv(\"../test.csv\")"
   ]
  },
  {
   "cell_type": "code",
   "execution_count": 9,
   "id": "77cdb3c6-aa62-4be7-9f7c-a76abda17453",
   "metadata": {},
   "outputs": [],
   "source": [
    "from typing import Any, Dict, List\n",
    "\n",
    "def process_text(text: Any) -> str:\n",
    "    if text is None:\n",
    "        return \"\"\n",
    "    if isinstance(text, str):\n",
    "        try:\n",
    "            return \" \".join(eval(text, {\"null\": \"\"}))\n",
    "        except:\n",
    "            return str(text)\n",
    "    else:\n",
    "        return str(text)\n",
    "\n",
    "def tokenize(\n",
    "    tokenizer, Clothing_ID, Age, Title, Review_Text, Positive_Feedback_Count, max_length=cfg.max_length):\n",
    "\n",
    "    Clothing_ID = [\"<Clothing ID>: \" + process_text(t) for t in Clothing_ID]\n",
    "    Age = [\"\\n\\n<Age>: \" + process_text(t) for t in Age]\n",
    "    Title = [\"\\n\\n<Title>: \" + process_text(t) for t in Title]\n",
    "    Review_Text = [\"\\n\\n<Review Text>: \" + process_text(t) for t in Review_Text]\n",
    "    Positive_Feedback_Count = [\"\\n\\n<Positive Feedback Count>: \" + process_text(t) for t in Positive_Feedback_Count]\n",
    "\n",
    "    texts = [c + a + t + r + p for c, a, t, r, p in zip(Clothing_ID, Age, Title, Review_Text, Positive_Feedback_Count)]\n",
    "    tokenized = tokenizer(texts, max_length=max_length, truncation=True, padding=False)\n",
    "\n",
    "    input_ids = tokenized.input_ids\n",
    "    attention_mask = tokenized.attention_mask\n",
    "\n",
    "    return input_ids, attention_mask\n",
    "\n",
    "# データの処理\n",
    "tokenizer = AutoTokenizer.from_pretrained(cfg.llama_dir)\n",
    "tokenizer.add_eos_token = True\n",
    "tokenizer.padding_side = \"right\"\n",
    "\n",
    "data = pd.DataFrame()\n",
    "data[\"input_ids\"], data[\"attention_mask\"] = tokenize(tokenizer, test[\"Clothing ID\"], test[\"Age\"], test[\"Title\"], test[\"Review Text\"], test[\"Positive Feedback Count\"])\n",
    "#data[\"length\"] = data[\"input_ids\"].apply(len)"
   ]
  },
  {
   "cell_type": "code",
   "execution_count": 10,
   "id": "8494fb4d-02b6-41e2-9db8-73eb4a96985f",
   "metadata": {},
   "outputs": [
    {
     "data": {
      "text/html": [
       "<div>\n",
       "<style scoped>\n",
       "    .dataframe tbody tr th:only-of-type {\n",
       "        vertical-align: middle;\n",
       "    }\n",
       "\n",
       "    .dataframe tbody tr th {\n",
       "        vertical-align: top;\n",
       "    }\n",
       "\n",
       "    .dataframe thead th {\n",
       "        text-align: right;\n",
       "    }\n",
       "</style>\n",
       "<table border=\"1\" class=\"dataframe\">\n",
       "  <thead>\n",
       "    <tr style=\"text-align: right;\">\n",
       "      <th></th>\n",
       "      <th>input_ids</th>\n",
       "      <th>attention_mask</th>\n",
       "    </tr>\n",
       "  </thead>\n",
       "  <tbody>\n",
       "    <tr>\n",
       "      <th>0</th>\n",
       "      <td>[128000, 20996, 385, 1626, 3110, 27916, 220, 1...</td>\n",
       "      <td>[1, 1, 1, 1, 1, 1, 1, 1, 1, 1, 1, 1, 1, 1, 1, ...</td>\n",
       "    </tr>\n",
       "    <tr>\n",
       "      <th>1</th>\n",
       "      <td>[128000, 20996, 385, 1626, 3110, 27916, 220, 1...</td>\n",
       "      <td>[1, 1, 1, 1, 1, 1, 1, 1, 1, 1, 1, 1, 1, 1, 1, ...</td>\n",
       "    </tr>\n",
       "    <tr>\n",
       "      <th>2</th>\n",
       "      <td>[128000, 20996, 385, 1626, 3110, 27916, 220, 1...</td>\n",
       "      <td>[1, 1, 1, 1, 1, 1, 1, 1, 1, 1, 1, 1, 1, 1, 1, ...</td>\n",
       "    </tr>\n",
       "    <tr>\n",
       "      <th>3</th>\n",
       "      <td>[128000, 20996, 385, 1626, 3110, 27916, 220, 1...</td>\n",
       "      <td>[1, 1, 1, 1, 1, 1, 1, 1, 1, 1, 1, 1, 1, 1, 1, ...</td>\n",
       "    </tr>\n",
       "    <tr>\n",
       "      <th>4</th>\n",
       "      <td>[128000, 20996, 385, 1626, 3110, 27916, 220, 1...</td>\n",
       "      <td>[1, 1, 1, 1, 1, 1, 1, 1, 1, 1, 1, 1, 1, 1, 1, ...</td>\n",
       "    </tr>\n",
       "    <tr>\n",
       "      <th>...</th>\n",
       "      <td>...</td>\n",
       "      <td>...</td>\n",
       "    </tr>\n",
       "    <tr>\n",
       "      <th>11150</th>\n",
       "      <td>[128000, 20996, 385, 1626, 3110, 27916, 220, 1...</td>\n",
       "      <td>[1, 1, 1, 1, 1, 1, 1, 1, 1, 1, 1, 1, 1, 1, 1, ...</td>\n",
       "    </tr>\n",
       "    <tr>\n",
       "      <th>11151</th>\n",
       "      <td>[128000, 20996, 385, 1626, 3110, 27916, 220, 1...</td>\n",
       "      <td>[1, 1, 1, 1, 1, 1, 1, 1, 1, 1, 1, 1, 1, 1, 1, ...</td>\n",
       "    </tr>\n",
       "    <tr>\n",
       "      <th>11152</th>\n",
       "      <td>[128000, 20996, 385, 1626, 3110, 27916, 220, 1...</td>\n",
       "      <td>[1, 1, 1, 1, 1, 1, 1, 1, 1, 1, 1, 1, 1, 1, 1, ...</td>\n",
       "    </tr>\n",
       "    <tr>\n",
       "      <th>11153</th>\n",
       "      <td>[128000, 20996, 385, 1626, 3110, 27916, 220, 1...</td>\n",
       "      <td>[1, 1, 1, 1, 1, 1, 1, 1, 1, 1, 1, 1, 1, 1, 1, ...</td>\n",
       "    </tr>\n",
       "    <tr>\n",
       "      <th>11154</th>\n",
       "      <td>[128000, 20996, 385, 1626, 3110, 27916, 220, 1...</td>\n",
       "      <td>[1, 1, 1, 1, 1, 1, 1, 1, 1, 1, 1, 1, 1, 1, 1, ...</td>\n",
       "    </tr>\n",
       "  </tbody>\n",
       "</table>\n",
       "<p>11155 rows × 2 columns</p>\n",
       "</div>"
      ],
      "text/plain": [
       "                                               input_ids  \\\n",
       "0      [128000, 20996, 385, 1626, 3110, 27916, 220, 1...   \n",
       "1      [128000, 20996, 385, 1626, 3110, 27916, 220, 1...   \n",
       "2      [128000, 20996, 385, 1626, 3110, 27916, 220, 1...   \n",
       "3      [128000, 20996, 385, 1626, 3110, 27916, 220, 1...   \n",
       "4      [128000, 20996, 385, 1626, 3110, 27916, 220, 1...   \n",
       "...                                                  ...   \n",
       "11150  [128000, 20996, 385, 1626, 3110, 27916, 220, 1...   \n",
       "11151  [128000, 20996, 385, 1626, 3110, 27916, 220, 1...   \n",
       "11152  [128000, 20996, 385, 1626, 3110, 27916, 220, 1...   \n",
       "11153  [128000, 20996, 385, 1626, 3110, 27916, 220, 1...   \n",
       "11154  [128000, 20996, 385, 1626, 3110, 27916, 220, 1...   \n",
       "\n",
       "                                          attention_mask  \n",
       "0      [1, 1, 1, 1, 1, 1, 1, 1, 1, 1, 1, 1, 1, 1, 1, ...  \n",
       "1      [1, 1, 1, 1, 1, 1, 1, 1, 1, 1, 1, 1, 1, 1, 1, ...  \n",
       "2      [1, 1, 1, 1, 1, 1, 1, 1, 1, 1, 1, 1, 1, 1, 1, ...  \n",
       "3      [1, 1, 1, 1, 1, 1, 1, 1, 1, 1, 1, 1, 1, 1, 1, ...  \n",
       "4      [1, 1, 1, 1, 1, 1, 1, 1, 1, 1, 1, 1, 1, 1, 1, ...  \n",
       "...                                                  ...  \n",
       "11150  [1, 1, 1, 1, 1, 1, 1, 1, 1, 1, 1, 1, 1, 1, 1, ...  \n",
       "11151  [1, 1, 1, 1, 1, 1, 1, 1, 1, 1, 1, 1, 1, 1, 1, ...  \n",
       "11152  [1, 1, 1, 1, 1, 1, 1, 1, 1, 1, 1, 1, 1, 1, 1, ...  \n",
       "11153  [1, 1, 1, 1, 1, 1, 1, 1, 1, 1, 1, 1, 1, 1, 1, ...  \n",
       "11154  [1, 1, 1, 1, 1, 1, 1, 1, 1, 1, 1, 1, 1, 1, 1, ...  \n",
       "\n",
       "[11155 rows x 2 columns]"
      ]
     },
     "execution_count": 10,
     "metadata": {},
     "output_type": "execute_result"
    }
   ],
   "source": [
    "data"
   ]
  },
  {
   "cell_type": "code",
   "execution_count": 11,
   "id": "662b9eff-a34d-4e0c-8716-40bd73a6d600",
   "metadata": {},
   "outputs": [
    {
     "data": {
      "text/plain": [
       "input_ids\n",
       "[128000, 20996, 385, 1626, 3110, 27916, 220, 14057, 271, 27, 17166, 27916, 220, 843, 271, 3203, 1017, 27916, 20622, 271, 27, 19997, 2991, 27916, 20622, 271, 27, 36590, 37957, 4605, 27916, 220, 15]                                                                                                                                                                                                                                                                                                                                                                                              4\n",
       "[128000, 20996, 385, 1626, 3110, 27916, 220, 6069, 271, 27, 17166, 27916, 220, 1758, 271, 3203, 1017, 27916, 20622, 271, 27, 19997, 2991, 27916, 20622, 271, 27, 36590, 37957, 4605, 27916, 220, 15]                                                                                                                                                                                                                                                                                                                                                                                              3\n",
       "[128000, 20996, 385, 1626, 3110, 27916, 220, 14057, 271, 27, 17166, 27916, 220, 3174, 271, 3203, 1017, 27916, 20622, 271, 27, 19997, 2991, 27916, 20622, 271, 27, 36590, 37957, 4605, 27916, 220, 15]                                                                                                                                                                                                                                                                                                                                                                                             2\n",
       "[128000, 20996, 385, 1626, 3110, 27916, 220, 8190, 271, 27, 17166, 27916, 220, 2137, 271, 3203, 1017, 27916, 20622, 271, 27, 19997, 2991, 27916, 20622, 271, 27, 36590, 37957, 4605, 27916, 220, 15]                                                                                                                                                                                                                                                                                                                                                                                              2\n",
       "[128000, 20996, 385, 1626, 3110, 27916, 220, 2491, 271, 27, 17166, 27916, 220, 914, 271, 3203, 1017, 27916, 20622, 271, 27, 19997, 2991, 27916, 20622, 271, 27, 36590, 37957, 4605, 27916, 220, 15]                                                                                                                                                                                                                                                                                                                                                                                               2\n",
       "                                                                                                                                                                                                                                                                                                                                                                                                                                                                                                                                                                                                 ..\n",
       "[128000, 20996, 385, 1626, 3110, 27916, 220, 6069, 271, 27, 17166, 27916, 220, 2131, 271, 3203, 1017, 27916, 95838, 3200, 50136, 271, 27, 19997, 2991, 27916, 358, 574, 779, 12304, 311, 1505, 420, 15845, 389, 6412, 520, 856, 2254, 37891, 3637, 13, 719, 11, 602, 1550, 539, 5406, 279, 1579, 11668, 315, 18803, 263, 304, 279, 13354, 11, 902, 9057, 279, 15845, 311, 30000, 12207, 304, 279, 11623, 320, 17206, 994, 2768, 28786, 11470, 570, 602, 38593, 433, 389, 9439, 449, 39640, 635, 323, 433, 374, 922, 4376, 279, 3160, 433, 574, 15453, 0, 602, 2846, 779, 25406, 13, 1268, ...]    1\n",
       "[128000, 20996, 385, 1626, 3110, 27916, 220, 6069, 271, 27, 17166, 27916, 220, 2131, 271, 3203, 1017, 27916, 2100, 2807, 47604, 271, 27, 19997, 2991, 27916, 358, 10051, 420, 1948, 449, 34389, 477, 80717, 13, 602, 682, 2336, 636, 72739, 13, 433, 596, 10882, 323, 33045, 13, 733, 1523, 264, 1404, 2268, 27, 36590, 37957, 4605, 27916, 220, 15]                                                                                                                                                                                                                                              1\n",
       "[128000, 20996, 385, 1626, 3110, 27916, 220, 6069, 271, 27, 17166, 27916, 220, 2131, 271, 3203, 1017, 27916, 20622, 271, 27, 19997, 2991, 27916, 20055, 323, 36301, 25833, 27, 36590, 37957, 4605, 27916, 220, 18]                                                                                                                                                                                                                                                                                                                                                                                1\n",
       "[128000, 20996, 385, 1626, 3110, 27916, 220, 6069, 271, 27, 17166, 27916, 220, 3487, 271, 3203, 1017, 27916, 8681, 612, 4228, 61221, 271, 27, 19997, 2991, 27916, 358, 1097, 1633, 6380, 449, 856, 7782, 13, 433, 374, 264, 2294, 61221, 0, 1633, 4228, 311, 10051, 323, 19369, 0, 602, 1097, 1633, 16614, 311, 19307, 88, 39640, 3956, 323, 420, 832, 374, 1633, 8579, 13, 602, 7701, 7079, 433, 382, 27, 36590, 37957, 4605, 27916, 220, 15]                                                                                                                                                    1\n",
       "[128000, 20996, 385, 1626, 3110, 27916, 220, 12338, 271, 27, 17166, 27916, 220, 5495, 271, 3203, 1017, 27916, 10919, 420, 8679, 2268, 27, 19997, 2991, 27916, 1115, 8679, 374, 11112, 76745, 0, 433, 374, 3177, 439, 264, 50876, 323, 49002, 389, 279, 2547, 13, 279, 13354, 5992, 4661, 1450, 79, 31329, 323, 18809, 1093, 264, 8063, 13, 602, 29395, 449, 279, 3766, 23163, 323, 602, 1781, 433, 5992, 1633, 9257, 13, 2307, 10882, 323, 602, 1440, 602, 3358, 636, 10283, 315, 10051, 704, 315, 433, 13, 499, 649, 8679, 433, 709, 477, 8679, 433, 1523, 13, 3021, 433, 2268, 27, ...]         1\n",
       "Name: count, Length: 11127, dtype: int64"
      ]
     },
     "execution_count": 11,
     "metadata": {},
     "output_type": "execute_result"
    }
   ],
   "source": [
    "data[\"input_ids\"].value_counts()"
   ]
  },
  {
   "cell_type": "code",
   "execution_count": 12,
   "id": "cb05eb2e-c5be-4d9f-ba59-d6b492eb8559",
   "metadata": {},
   "outputs": [
    {
     "data": {
      "text/html": [
       "<div>\n",
       "<style scoped>\n",
       "    .dataframe tbody tr th:only-of-type {\n",
       "        vertical-align: middle;\n",
       "    }\n",
       "\n",
       "    .dataframe tbody tr th {\n",
       "        vertical-align: top;\n",
       "    }\n",
       "\n",
       "    .dataframe thead th {\n",
       "        text-align: right;\n",
       "    }\n",
       "</style>\n",
       "<table border=\"1\" class=\"dataframe\">\n",
       "  <thead>\n",
       "    <tr style=\"text-align: right;\">\n",
       "      <th></th>\n",
       "      <th>Clothing ID</th>\n",
       "      <th>Age</th>\n",
       "      <th>Title</th>\n",
       "      <th>Review Text</th>\n",
       "      <th>Positive Feedback Count</th>\n",
       "    </tr>\n",
       "  </thead>\n",
       "  <tbody>\n",
       "    <tr>\n",
       "      <th>0</th>\n",
       "      <td>0</td>\n",
       "      <td>32</td>\n",
       "      <td>So happy i bought this skirt!</td>\n",
       "      <td>I love this skirt. it does run a little small,...</td>\n",
       "      <td>0</td>\n",
       "    </tr>\n",
       "    <tr>\n",
       "      <th>1</th>\n",
       "      <td>0</td>\n",
       "      <td>34</td>\n",
       "      <td>Runs small</td>\n",
       "      <td>Beautiful patterns and colors, but it sits ver...</td>\n",
       "      <td>0</td>\n",
       "    </tr>\n",
       "    <tr>\n",
       "      <th>2</th>\n",
       "      <td>0</td>\n",
       "      <td>37</td>\n",
       "      <td>Love the comfort of thi skirt</td>\n",
       "      <td>It is easily paired with a nice tip for work a...</td>\n",
       "      <td>0</td>\n",
       "    </tr>\n",
       "    <tr>\n",
       "      <th>3</th>\n",
       "      <td>0</td>\n",
       "      <td>39</td>\n",
       "      <td>Way too small</td>\n",
       "      <td>This is a beautiful skirt, but runs very small...</td>\n",
       "      <td>10</td>\n",
       "    </tr>\n",
       "    <tr>\n",
       "      <th>4</th>\n",
       "      <td>0</td>\n",
       "      <td>39</td>\n",
       "      <td>NaN</td>\n",
       "      <td>I usually wear a size 8/10 and i needed a larg...</td>\n",
       "      <td>0</td>\n",
       "    </tr>\n",
       "    <tr>\n",
       "      <th>...</th>\n",
       "      <td>...</td>\n",
       "      <td>...</td>\n",
       "      <td>...</td>\n",
       "      <td>...</td>\n",
       "      <td>...</td>\n",
       "    </tr>\n",
       "    <tr>\n",
       "      <th>11150</th>\n",
       "      <td>232</td>\n",
       "      <td>53</td>\n",
       "      <td>More beautiful in reality</td>\n",
       "      <td>I purchased this dress on a whim. it is easy t...</td>\n",
       "      <td>0</td>\n",
       "    </tr>\n",
       "    <tr>\n",
       "      <th>11151</th>\n",
       "      <td>232</td>\n",
       "      <td>58</td>\n",
       "      <td>Perfect dress!</td>\n",
       "      <td>This dress is very flattering on and can easil...</td>\n",
       "      <td>0</td>\n",
       "    </tr>\n",
       "    <tr>\n",
       "      <th>11152</th>\n",
       "      <td>232</td>\n",
       "      <td>60</td>\n",
       "      <td>Perfect dress</td>\n",
       "      <td>This is the most perfect dress i've ever bough...</td>\n",
       "      <td>0</td>\n",
       "    </tr>\n",
       "    <tr>\n",
       "      <th>11153</th>\n",
       "      <td>232</td>\n",
       "      <td>62</td>\n",
       "      <td>Really great!</td>\n",
       "      <td>This is a beautiful dress! not too interested ...</td>\n",
       "      <td>5</td>\n",
       "    </tr>\n",
       "    <tr>\n",
       "      <th>11154</th>\n",
       "      <td>232</td>\n",
       "      <td>63</td>\n",
       "      <td>Love this dress!</td>\n",
       "      <td>This dress is absolutely darling! it is light ...</td>\n",
       "      <td>2</td>\n",
       "    </tr>\n",
       "  </tbody>\n",
       "</table>\n",
       "<p>11155 rows × 5 columns</p>\n",
       "</div>"
      ],
      "text/plain": [
       "       Clothing ID  Age                          Title  \\\n",
       "0                0   32  So happy i bought this skirt!   \n",
       "1                0   34                     Runs small   \n",
       "2                0   37  Love the comfort of thi skirt   \n",
       "3                0   39                  Way too small   \n",
       "4                0   39                            NaN   \n",
       "...            ...  ...                            ...   \n",
       "11150          232   53      More beautiful in reality   \n",
       "11151          232   58                 Perfect dress!   \n",
       "11152          232   60                  Perfect dress   \n",
       "11153          232   62                  Really great!   \n",
       "11154          232   63               Love this dress!   \n",
       "\n",
       "                                             Review Text  \\\n",
       "0      I love this skirt. it does run a little small,...   \n",
       "1      Beautiful patterns and colors, but it sits ver...   \n",
       "2      It is easily paired with a nice tip for work a...   \n",
       "3      This is a beautiful skirt, but runs very small...   \n",
       "4      I usually wear a size 8/10 and i needed a larg...   \n",
       "...                                                  ...   \n",
       "11150  I purchased this dress on a whim. it is easy t...   \n",
       "11151  This dress is very flattering on and can easil...   \n",
       "11152  This is the most perfect dress i've ever bough...   \n",
       "11153  This is a beautiful dress! not too interested ...   \n",
       "11154  This dress is absolutely darling! it is light ...   \n",
       "\n",
       "       Positive Feedback Count  \n",
       "0                            0  \n",
       "1                            0  \n",
       "2                            0  \n",
       "3                           10  \n",
       "4                            0  \n",
       "...                        ...  \n",
       "11150                        0  \n",
       "11151                        0  \n",
       "11152                        0  \n",
       "11153                        5  \n",
       "11154                        2  \n",
       "\n",
       "[11155 rows x 5 columns]"
      ]
     },
     "execution_count": 12,
     "metadata": {},
     "output_type": "execute_result"
    }
   ],
   "source": [
    "test"
   ]
  },
  {
   "cell_type": "code",
   "execution_count": 13,
   "id": "196c6e7a-c25c-4160-93fb-56b8c11d943f",
   "metadata": {},
   "outputs": [
    {
     "name": "stdout",
     "output_type": "stream",
     "text": [
      "[128000, 20996, 385, 1626, 3110, 27916, 220, 15, 271, 27, 17166, 27916, 220, 843, 271, 3203, 1017, 27916, 2100, 6380, 602, 11021, 420, 38380, 2268, 27, 19997, 2991, 27916, 358, 3021, 420, 38380, 13, 433, 1587, 1629, 264, 2697, 2678, 11, 602, 11713, 459, 5066, 2678, 323, 433, 374, 10508, 520, 279, 29142, 11, 719, 2103, 4375, 13, 602, 617, 4036, 810, 72739, 389, 420, 38380, 1109, 7344, 4205, 602, 617, 13234, 13, 602, 3077, 1027, 10717, 520, 279, 30687, 3637, 555, 1274, 11890, 757, 1268, 1790, 814, 1093, 433, 13, 602, 1101, 990, 449, 6980, 11, 323, 814, 682, 3021, 433, 439, 1664, 382, 27, 36590, 37957, 4605, 27916, 220, 15]\n"
     ]
    }
   ],
   "source": [
    "print(data[\"input_ids\"][0])"
   ]
  },
  {
   "cell_type": "code",
   "execution_count": 14,
   "id": "f861c826-8db4-4964-9a18-b6b613bd9a1b",
   "metadata": {},
   "outputs": [
    {
     "name": "stdout",
     "output_type": "stream",
     "text": [
      "[128000, 20996, 385, 1626, 3110, 27916, 220, 15, 271, 27, 17166, 27916, 220, 1958, 271, 3203, 1017, 27916, 51090, 2678, 271, 27, 19997, 2991, 27916, 20055, 12912, 323, 8146, 11, 719, 433, 23874, 1633, 1579, 323, 8640, 2678, 13, 602, 2846, 14614, 264, 1404, 220, 19, 323, 2751, 279, 2678, 13, 1167, 6586, 682, 279, 1648, 11, 719, 389, 279, 86701, 3185, 13, 279, 38380, 23874, 779, 1579, 430, 279, 13354, 5108, 1523, 574, 264, 2766, 29859, 13, 1778, 264, 21648, 1606, 433, 2216, 374, 6366, 323, 5992, 2294, 389, 279, 1646, 4762, 1606, 1364, 596, 12512, 264, 19671, 311, 10477, 1268, 1579, 433, 32327, 323, 1344, 5518, 704, 382, 27, 36590, 37957, 4605, 27916, 220, 15]\n"
     ]
    }
   ],
   "source": [
    "print(data[\"input_ids\"][1])"
   ]
  },
  {
   "cell_type": "code",
   "execution_count": 15,
   "id": "ac145184-146f-43d5-b808-cc277e77aa42",
   "metadata": {},
   "outputs": [
    {
     "name": "stdout",
     "output_type": "stream",
     "text": [
      "<|begin_of_text|><Clothing ID>: 0\n",
      "\n",
      "<Age>: 32\n",
      "\n",
      "<Title>: So happy i bought this skirt!\n",
      "\n",
      "<Review Text>: I love this skirt. it does run a little small, i ordered an extra small and it is tight at the waist, but still works. i have received more compliments on this skirt than maybe anything i have owned. i've been stopped at the grocery store by people telling me how much they like it. i also work with kids, and they all love it as well.\n",
      "\n",
      "<Positive Feedback Count>: 0\n"
     ]
    }
   ],
   "source": [
    "print(tokenizer.decode(data[\"input_ids\"][0]))"
   ]
  },
  {
   "cell_type": "code",
   "execution_count": 16,
   "id": "a0a54bda-088a-4c37-aa39-78437222b843",
   "metadata": {},
   "outputs": [
    {
     "name": "stdout",
     "output_type": "stream",
     "text": [
      "<|begin_of_text|><Clothing ID>: 0\n",
      "\n",
      "<Age>: 34\n",
      "\n",
      "<Title>: Runs small\n",
      "\n",
      "<Review Text>: Beautiful patterns and colors, but it sits very high and runs small. i'm normally a size 4 and got the small. zipped all the way, but on the snug side. the skirt sits so high that the fabric coming down was a bit awkward. such a shame because it really is beautiful and looks great on the model probably because she's wearing a belt to hide how high it rides and flares out.\n",
      "\n",
      "<Positive Feedback Count>: 0\n"
     ]
    }
   ],
   "source": [
    "print(tokenizer.decode(data[\"input_ids\"][1]))"
   ]
  },
  {
   "cell_type": "code",
   "execution_count": 17,
   "id": "387755e6-c654-47cf-80e2-78663d69ca28",
   "metadata": {},
   "outputs": [
    {
     "name": "stdout",
     "output_type": "stream",
     "text": [
      "<|begin_of_text|><Clothing ID>: 232\n",
      "\n",
      "<Age>: 63\n",
      "\n",
      "<Title>: Love this dress!\n",
      "\n",
      "<Review Text>: This dress is absolutely darling! it is light as a feather and floats on the body. the fabric looks almost handpainted and fits like a dream. i disagree with the previous poster and i think it looks very rich. super comfortable and i know i'll get lots of wear out of it. you can dress it up or dress it down. love it!\n",
      "\n",
      "<Positive Feedback Count>: 2\n"
     ]
    }
   ],
   "source": [
    "print(tokenizer.decode(data[\"input_ids\"][11154]))"
   ]
  },
  {
   "cell_type": "code",
   "execution_count": 18,
   "id": "726a390e-cbe4-4f71-9694-d877a8d264b6",
   "metadata": {},
   "outputs": [
    {
     "name": "stdout",
     "output_type": "stream",
     "text": [
      "<|begin_of_text|><Clothing ID>: 232\n",
      "\n",
      "<Age>: 63\n",
      "\n",
      "<Title>: Love this dress!\n",
      "\n",
      "<Review Text>: This dress is absolutely darling! it is light as a feather and floats on the body. the fabric looks almost handpainted and fits like a dream. i disagree with the previous poster and i think it looks very rich. super comfortable and i know i'll get lots of wear out of it. you can dress it up or dress it down. love it!\n",
      "\n",
      "<Positive Feedback Count>: 2\n"
     ]
    }
   ],
   "source": [
    "print(tokenizer.decode(data[\"input_ids\"][11154]))"
   ]
  },
  {
   "cell_type": "code",
   "execution_count": 19,
   "id": "31a5cd26-9497-4b42-bb7b-25fea02aa34d",
   "metadata": {},
   "outputs": [
    {
     "name": "stderr",
     "output_type": "stream",
     "text": [
      "Unused kwargs: ['_load_in_4bit', '_load_in_8bit', 'quant_method']. These kwargs are not used in <class 'transformers.utils.quantization_config.BitsAndBytesConfig'>.\n"
     ]
    },
    {
     "data": {
      "application/vnd.jupyter.widget-view+json": {
       "model_id": "404d2c86547e49fb9eea0183b175cf9d",
       "version_major": 2,
       "version_minor": 0
      },
      "text/plain": [
       "Loading checkpoint shards:   0%|          | 0/6 [00:00<?, ?it/s]"
      ]
     },
     "metadata": {},
     "output_type": "display_data"
    },
    {
     "name": "stderr",
     "output_type": "stream",
     "text": [
      "Some weights of LlamaForSequenceClassification were not initialized from the model checkpoint at unsloth/Meta-Llama-3.1-70B-Instruct-bnb-4bit and are newly initialized: ['score.weight']\n",
      "You should probably TRAIN this model on a down-stream task to be able to use it for predictions and inference.\n"
     ]
    }
   ],
   "source": [
    "# Load base model on GPU 0\n",
    "device_0 = torch.device('cuda:0')\n",
    "model_0 = LlamaForSequenceClassification.from_pretrained(\n",
    "    cfg.llama_dir,\n",
    "    device_map=device_0,\n",
    "    use_cache=False,\n",
    ")"
   ]
  },
  {
   "cell_type": "code",
   "execution_count": 20,
   "id": "f8c928c8-7fb3-4fd4-a414-38b94f253260",
   "metadata": {},
   "outputs": [],
   "source": [
    "model_0 = PeftModel.from_pretrained(model_0, cfg.lora_dir)"
   ]
  },
  {
   "cell_type": "code",
   "execution_count": 21,
   "id": "65a5d1b5-3615-449c-9ac8-213f0b93f5d9",
   "metadata": {},
   "outputs": [],
   "source": [
    "from tqdm import tqdm\n",
    "\n",
    "@torch.no_grad()\n",
    "@torch.cuda.amp.autocast()\n",
    "def inference(df, model, device, batch_size=cfg.batch_size, max_length=cfg.max_length):\n",
    "    target = []\n",
    "\n",
    "    # tqdmを使用してプログレスバーを表示\n",
    "    progress_bar = tqdm(range(0, len(df), batch_size), desc=\"Inference\")\n",
    "    \n",
    "    for start_idx in range(0, len(df), batch_size):\n",
    "        end_idx = min(start_idx + batch_size, len(df))\n",
    "        tmp = df.iloc[start_idx:end_idx]\n",
    "        input_ids = tmp[\"input_ids\"].to_list()\n",
    "        attention_mask = tmp[\"attention_mask\"].to_list()\n",
    "        inputs = pad_without_fast_tokenizer_warning(\n",
    "            tokenizer,\n",
    "            {\"input_ids\": input_ids, \"attention_mask\": attention_mask},\n",
    "            padding=\"longest\",\n",
    "            pad_to_multiple_of=None,\n",
    "            return_tensors=\"pt\",\n",
    "        )\n",
    "        outputs = model(**inputs.to(device))\n",
    "        proba = outputs.logits.softmax(-1).cpu()\n",
    "        \n",
    "        target.extend(proba[:, 1].tolist())\n",
    "\n",
    "        # オプション: プログレスバーの説明を更新して現在の進捗状況を表示\n",
    "        progress_bar.set_postfix({\"Processed\": f\"{end_idx}/{len(df)}\"})\n",
    "        \n",
    "    \n",
    "    df[\"target\"] = target\n",
    "    \n",
    "    return df"
   ]
  },
  {
   "cell_type": "code",
   "execution_count": 22,
   "id": "eb043863-a2f1-4d7e-83a0-393003d8302a",
   "metadata": {},
   "outputs": [
    {
     "name": "stderr",
     "output_type": "stream",
     "text": [
      "Inference:   0%|          | 0/465 [38:10<?, ?it/s, Processed=11155/11155]\n"
     ]
    }
   ],
   "source": [
    "\"\"\"\n",
    "st = time.time()\n",
    "results = inference(df=data, model=model_0, device=device_0)\n",
    "\n",
    "print(f\"elapsed time: {time.time() - st}\")\n",
    "\"\"\"\n",
    "\n",
    "original_index = data.index.copy()\n",
    "results = inference(df=data.reset_index(drop=True), model=model_0, device=device_0)\n",
    "results = results.set_index(original_index)"
   ]
  },
  {
   "cell_type": "code",
   "execution_count": 23,
   "id": "e786792a-37f5-46b5-afa2-1be335550712",
   "metadata": {},
   "outputs": [
    {
     "data": {
      "text/html": [
       "<div>\n",
       "<style scoped>\n",
       "    .dataframe tbody tr th:only-of-type {\n",
       "        vertical-align: middle;\n",
       "    }\n",
       "\n",
       "    .dataframe tbody tr th {\n",
       "        vertical-align: top;\n",
       "    }\n",
       "\n",
       "    .dataframe thead th {\n",
       "        text-align: right;\n",
       "    }\n",
       "</style>\n",
       "<table border=\"1\" class=\"dataframe\">\n",
       "  <thead>\n",
       "    <tr style=\"text-align: right;\">\n",
       "      <th></th>\n",
       "      <th>input_ids</th>\n",
       "      <th>attention_mask</th>\n",
       "      <th>target</th>\n",
       "    </tr>\n",
       "  </thead>\n",
       "  <tbody>\n",
       "    <tr>\n",
       "      <th>0</th>\n",
       "      <td>[128000, 20996, 385, 1626, 3110, 27916, 220, 1...</td>\n",
       "      <td>[1, 1, 1, 1, 1, 1, 1, 1, 1, 1, 1, 1, 1, 1, 1, ...</td>\n",
       "      <td>0.999304</td>\n",
       "    </tr>\n",
       "    <tr>\n",
       "      <th>1</th>\n",
       "      <td>[128000, 20996, 385, 1626, 3110, 27916, 220, 1...</td>\n",
       "      <td>[1, 1, 1, 1, 1, 1, 1, 1, 1, 1, 1, 1, 1, 1, 1, ...</td>\n",
       "      <td>0.236472</td>\n",
       "    </tr>\n",
       "    <tr>\n",
       "      <th>2</th>\n",
       "      <td>[128000, 20996, 385, 1626, 3110, 27916, 220, 1...</td>\n",
       "      <td>[1, 1, 1, 1, 1, 1, 1, 1, 1, 1, 1, 1, 1, 1, 1, ...</td>\n",
       "      <td>0.999069</td>\n",
       "    </tr>\n",
       "    <tr>\n",
       "      <th>3</th>\n",
       "      <td>[128000, 20996, 385, 1626, 3110, 27916, 220, 1...</td>\n",
       "      <td>[1, 1, 1, 1, 1, 1, 1, 1, 1, 1, 1, 1, 1, 1, 1, ...</td>\n",
       "      <td>0.038738</td>\n",
       "    </tr>\n",
       "    <tr>\n",
       "      <th>4</th>\n",
       "      <td>[128000, 20996, 385, 1626, 3110, 27916, 220, 1...</td>\n",
       "      <td>[1, 1, 1, 1, 1, 1, 1, 1, 1, 1, 1, 1, 1, 1, 1, ...</td>\n",
       "      <td>0.997847</td>\n",
       "    </tr>\n",
       "    <tr>\n",
       "      <th>...</th>\n",
       "      <td>...</td>\n",
       "      <td>...</td>\n",
       "      <td>...</td>\n",
       "    </tr>\n",
       "    <tr>\n",
       "      <th>11150</th>\n",
       "      <td>[128000, 20996, 385, 1626, 3110, 27916, 220, 1...</td>\n",
       "      <td>[1, 1, 1, 1, 1, 1, 1, 1, 1, 1, 1, 1, 1, 1, 1, ...</td>\n",
       "      <td>0.999304</td>\n",
       "    </tr>\n",
       "    <tr>\n",
       "      <th>11151</th>\n",
       "      <td>[128000, 20996, 385, 1626, 3110, 27916, 220, 1...</td>\n",
       "      <td>[1, 1, 1, 1, 1, 1, 1, 1, 1, 1, 1, 1, 1, 1, 1, ...</td>\n",
       "      <td>0.999363</td>\n",
       "    </tr>\n",
       "    <tr>\n",
       "      <th>11152</th>\n",
       "      <td>[128000, 20996, 385, 1626, 3110, 27916, 220, 1...</td>\n",
       "      <td>[1, 1, 1, 1, 1, 1, 1, 1, 1, 1, 1, 1, 1, 1, 1, ...</td>\n",
       "      <td>0.999222</td>\n",
       "    </tr>\n",
       "    <tr>\n",
       "      <th>11153</th>\n",
       "      <td>[128000, 20996, 385, 1626, 3110, 27916, 220, 1...</td>\n",
       "      <td>[1, 1, 1, 1, 1, 1, 1, 1, 1, 1, 1, 1, 1, 1, 1, ...</td>\n",
       "      <td>0.998654</td>\n",
       "    </tr>\n",
       "    <tr>\n",
       "      <th>11154</th>\n",
       "      <td>[128000, 20996, 385, 1626, 3110, 27916, 220, 1...</td>\n",
       "      <td>[1, 1, 1, 1, 1, 1, 1, 1, 1, 1, 1, 1, 1, 1, 1, ...</td>\n",
       "      <td>0.999329</td>\n",
       "    </tr>\n",
       "  </tbody>\n",
       "</table>\n",
       "<p>11155 rows × 3 columns</p>\n",
       "</div>"
      ],
      "text/plain": [
       "                                               input_ids  \\\n",
       "0      [128000, 20996, 385, 1626, 3110, 27916, 220, 1...   \n",
       "1      [128000, 20996, 385, 1626, 3110, 27916, 220, 1...   \n",
       "2      [128000, 20996, 385, 1626, 3110, 27916, 220, 1...   \n",
       "3      [128000, 20996, 385, 1626, 3110, 27916, 220, 1...   \n",
       "4      [128000, 20996, 385, 1626, 3110, 27916, 220, 1...   \n",
       "...                                                  ...   \n",
       "11150  [128000, 20996, 385, 1626, 3110, 27916, 220, 1...   \n",
       "11151  [128000, 20996, 385, 1626, 3110, 27916, 220, 1...   \n",
       "11152  [128000, 20996, 385, 1626, 3110, 27916, 220, 1...   \n",
       "11153  [128000, 20996, 385, 1626, 3110, 27916, 220, 1...   \n",
       "11154  [128000, 20996, 385, 1626, 3110, 27916, 220, 1...   \n",
       "\n",
       "                                          attention_mask    target  \n",
       "0      [1, 1, 1, 1, 1, 1, 1, 1, 1, 1, 1, 1, 1, 1, 1, ...  0.999304  \n",
       "1      [1, 1, 1, 1, 1, 1, 1, 1, 1, 1, 1, 1, 1, 1, 1, ...  0.236472  \n",
       "2      [1, 1, 1, 1, 1, 1, 1, 1, 1, 1, 1, 1, 1, 1, 1, ...  0.999069  \n",
       "3      [1, 1, 1, 1, 1, 1, 1, 1, 1, 1, 1, 1, 1, 1, 1, ...  0.038738  \n",
       "4      [1, 1, 1, 1, 1, 1, 1, 1, 1, 1, 1, 1, 1, 1, 1, ...  0.997847  \n",
       "...                                                  ...       ...  \n",
       "11150  [1, 1, 1, 1, 1, 1, 1, 1, 1, 1, 1, 1, 1, 1, 1, ...  0.999304  \n",
       "11151  [1, 1, 1, 1, 1, 1, 1, 1, 1, 1, 1, 1, 1, 1, 1, ...  0.999363  \n",
       "11152  [1, 1, 1, 1, 1, 1, 1, 1, 1, 1, 1, 1, 1, 1, 1, ...  0.999222  \n",
       "11153  [1, 1, 1, 1, 1, 1, 1, 1, 1, 1, 1, 1, 1, 1, 1, ...  0.998654  \n",
       "11154  [1, 1, 1, 1, 1, 1, 1, 1, 1, 1, 1, 1, 1, 1, 1, ...  0.999329  \n",
       "\n",
       "[11155 rows x 3 columns]"
      ]
     },
     "execution_count": 23,
     "metadata": {},
     "output_type": "execute_result"
    }
   ],
   "source": [
    "results"
   ]
  },
  {
   "cell_type": "code",
   "execution_count": 24,
   "id": "37e6cdcc-fb3f-47da-93c6-9de19aa14fe2",
   "metadata": {},
   "outputs": [
    {
     "name": "stdout",
     "output_type": "stream",
     "text": [
      "<|begin_of_text|><Clothing ID>: 165\n",
      "\n",
      "<Age>: 57\n",
      "\n",
      "<Title>: Cool summer skirt.\n",
      "\n",
      "<Review Text>: 1. i'm 5'5\" tall, 145 lbs, and 38-32-40. i wear a size 30 in hyphen chinos and they are loose. i could get in a size 10, but i felt the stretchiness made it look like it was pulling slightly. i decided to get the size 12 even though it was a hair loose.\n",
      "\n",
      "2. the skirt hem is right above my knees. it's not as short as it appears on the model.\n",
      "\n",
      "3. the back pockets are sewn shut, so they won't sag.\n",
      "\n",
      "4. my only complaint is that the hook and eye at the waist pulls away funny, but i'm going to t\n",
      "\n",
      "<Positive Feedback Count>: 10\n"
     ]
    }
   ],
   "source": [
    "print(tokenizer.decode(results[\"input_ids\"][7863]))"
   ]
  },
  {
   "cell_type": "code",
   "execution_count": 25,
   "id": "cee355b0-5e71-4910-a0e3-c7dc3b0c1ec9",
   "metadata": {},
   "outputs": [
    {
     "name": "stdout",
     "output_type": "stream",
     "text": [
      "<|begin_of_text|><Clothing ID>: 165\n",
      "\n",
      "<Age>: 57\n",
      "\n",
      "<Title>: Cool summer skirt.\n",
      "\n",
      "<Review Text>: 1. i'm 5'5\" tall, 145 lbs, and 38-32-40. i wear a size 30 in hyphen chinos and they are loose. i could get in a size 10, but i felt the stretchiness made it look like it was pulling slightly. i decided to get the size 12 even though it was a hair loose.\n",
      "\n",
      "2. the skirt hem is right above my knees. it's not as short as it appears on the model.\n",
      "\n",
      "3. the back pockets are sewn shut, so they won't sag.\n",
      "\n",
      "4. my only complaint is that the hook and eye at the waist pulls away funny, but i'm going to t\n",
      "\n",
      "<Positive Feedback Count>: 10\n"
     ]
    }
   ],
   "source": [
    "print(tokenizer.decode(data[\"input_ids\"][7863]))"
   ]
  },
  {
   "cell_type": "code",
   "execution_count": 26,
   "id": "d765a143-5774-4b28-9ba5-93624bfcadd9",
   "metadata": {},
   "outputs": [],
   "source": [
    "#results.reset_index(drop=True)"
   ]
  },
  {
   "cell_type": "code",
   "execution_count": 27,
   "id": "da9623a8-3834-4dd3-99c3-56efd49e896c",
   "metadata": {},
   "outputs": [
    {
     "data": {
      "text/plain": [
       "'I purchased this dress on a whim. it is easy to wear and very comfortable.  the empire waist is flattering. however, the dress runs large and the lower half is a-line. the neckline is very flattering and you feel put together when wearing this dress.\\r\\ni am happy to have it in my wardrobe. a go-to piece for years to come.'"
      ]
     },
     "execution_count": 27,
     "metadata": {},
     "output_type": "execute_result"
    }
   ],
   "source": [
    "test.iloc[11150][\"Review Text\"]"
   ]
  },
  {
   "cell_type": "code",
   "execution_count": 28,
   "id": "22d46fe5-c171-4103-9556-9cc38489676f",
   "metadata": {},
   "outputs": [
    {
     "data": {
      "text/html": [
       "<div>\n",
       "<style scoped>\n",
       "    .dataframe tbody tr th:only-of-type {\n",
       "        vertical-align: middle;\n",
       "    }\n",
       "\n",
       "    .dataframe tbody tr th {\n",
       "        vertical-align: top;\n",
       "    }\n",
       "\n",
       "    .dataframe thead th {\n",
       "        text-align: right;\n",
       "    }\n",
       "</style>\n",
       "<table border=\"1\" class=\"dataframe\">\n",
       "  <thead>\n",
       "    <tr style=\"text-align: right;\">\n",
       "      <th></th>\n",
       "      <th>target</th>\n",
       "    </tr>\n",
       "  </thead>\n",
       "  <tbody>\n",
       "    <tr>\n",
       "      <th>0</th>\n",
       "      <td>0.488567</td>\n",
       "    </tr>\n",
       "    <tr>\n",
       "      <th>1</th>\n",
       "      <td>0.315813</td>\n",
       "    </tr>\n",
       "    <tr>\n",
       "      <th>2</th>\n",
       "      <td>0.764448</td>\n",
       "    </tr>\n",
       "    <tr>\n",
       "      <th>3</th>\n",
       "      <td>0.980691</td>\n",
       "    </tr>\n",
       "    <tr>\n",
       "      <th>4</th>\n",
       "      <td>0.406762</td>\n",
       "    </tr>\n",
       "    <tr>\n",
       "      <th>...</th>\n",
       "      <td>...</td>\n",
       "    </tr>\n",
       "    <tr>\n",
       "      <th>11150</th>\n",
       "      <td>0.922096</td>\n",
       "    </tr>\n",
       "    <tr>\n",
       "      <th>11151</th>\n",
       "      <td>0.692480</td>\n",
       "    </tr>\n",
       "    <tr>\n",
       "      <th>11152</th>\n",
       "      <td>0.236563</td>\n",
       "    </tr>\n",
       "    <tr>\n",
       "      <th>11153</th>\n",
       "      <td>0.267781</td>\n",
       "    </tr>\n",
       "    <tr>\n",
       "      <th>11154</th>\n",
       "      <td>0.177353</td>\n",
       "    </tr>\n",
       "  </tbody>\n",
       "</table>\n",
       "<p>11155 rows × 1 columns</p>\n",
       "</div>"
      ],
      "text/plain": [
       "         target\n",
       "0      0.488567\n",
       "1      0.315813\n",
       "2      0.764448\n",
       "3      0.980691\n",
       "4      0.406762\n",
       "...         ...\n",
       "11150  0.922096\n",
       "11151  0.692480\n",
       "11152  0.236563\n",
       "11153  0.267781\n",
       "11154  0.177353\n",
       "\n",
       "[11155 rows x 1 columns]"
      ]
     },
     "execution_count": 28,
     "metadata": {},
     "output_type": "execute_result"
    }
   ],
   "source": [
    "sample_submission = pd.read_csv(\"../sample_submission.csv\")\n",
    "sample_submission"
   ]
  },
  {
   "cell_type": "code",
   "execution_count": 29,
   "id": "2d0eeef5-d2b3-4e67-a500-81b763452999",
   "metadata": {},
   "outputs": [
    {
     "data": {
      "text/html": [
       "<div>\n",
       "<style scoped>\n",
       "    .dataframe tbody tr th:only-of-type {\n",
       "        vertical-align: middle;\n",
       "    }\n",
       "\n",
       "    .dataframe tbody tr th {\n",
       "        vertical-align: top;\n",
       "    }\n",
       "\n",
       "    .dataframe thead th {\n",
       "        text-align: right;\n",
       "    }\n",
       "</style>\n",
       "<table border=\"1\" class=\"dataframe\">\n",
       "  <thead>\n",
       "    <tr style=\"text-align: right;\">\n",
       "      <th></th>\n",
       "      <th>input_ids</th>\n",
       "      <th>attention_mask</th>\n",
       "      <th>target</th>\n",
       "    </tr>\n",
       "  </thead>\n",
       "  <tbody>\n",
       "    <tr>\n",
       "      <th>0</th>\n",
       "      <td>[128000, 20996, 385, 1626, 3110, 27916, 220, 1...</td>\n",
       "      <td>[1, 1, 1, 1, 1, 1, 1, 1, 1, 1, 1, 1, 1, 1, 1, ...</td>\n",
       "      <td>0.999304</td>\n",
       "    </tr>\n",
       "    <tr>\n",
       "      <th>1</th>\n",
       "      <td>[128000, 20996, 385, 1626, 3110, 27916, 220, 1...</td>\n",
       "      <td>[1, 1, 1, 1, 1, 1, 1, 1, 1, 1, 1, 1, 1, 1, 1, ...</td>\n",
       "      <td>0.236472</td>\n",
       "    </tr>\n",
       "    <tr>\n",
       "      <th>2</th>\n",
       "      <td>[128000, 20996, 385, 1626, 3110, 27916, 220, 1...</td>\n",
       "      <td>[1, 1, 1, 1, 1, 1, 1, 1, 1, 1, 1, 1, 1, 1, 1, ...</td>\n",
       "      <td>0.999069</td>\n",
       "    </tr>\n",
       "    <tr>\n",
       "      <th>3</th>\n",
       "      <td>[128000, 20996, 385, 1626, 3110, 27916, 220, 1...</td>\n",
       "      <td>[1, 1, 1, 1, 1, 1, 1, 1, 1, 1, 1, 1, 1, 1, 1, ...</td>\n",
       "      <td>0.038738</td>\n",
       "    </tr>\n",
       "    <tr>\n",
       "      <th>4</th>\n",
       "      <td>[128000, 20996, 385, 1626, 3110, 27916, 220, 1...</td>\n",
       "      <td>[1, 1, 1, 1, 1, 1, 1, 1, 1, 1, 1, 1, 1, 1, 1, ...</td>\n",
       "      <td>0.997847</td>\n",
       "    </tr>\n",
       "    <tr>\n",
       "      <th>...</th>\n",
       "      <td>...</td>\n",
       "      <td>...</td>\n",
       "      <td>...</td>\n",
       "    </tr>\n",
       "    <tr>\n",
       "      <th>11150</th>\n",
       "      <td>[128000, 20996, 385, 1626, 3110, 27916, 220, 1...</td>\n",
       "      <td>[1, 1, 1, 1, 1, 1, 1, 1, 1, 1, 1, 1, 1, 1, 1, ...</td>\n",
       "      <td>0.999304</td>\n",
       "    </tr>\n",
       "    <tr>\n",
       "      <th>11151</th>\n",
       "      <td>[128000, 20996, 385, 1626, 3110, 27916, 220, 1...</td>\n",
       "      <td>[1, 1, 1, 1, 1, 1, 1, 1, 1, 1, 1, 1, 1, 1, 1, ...</td>\n",
       "      <td>0.999363</td>\n",
       "    </tr>\n",
       "    <tr>\n",
       "      <th>11152</th>\n",
       "      <td>[128000, 20996, 385, 1626, 3110, 27916, 220, 1...</td>\n",
       "      <td>[1, 1, 1, 1, 1, 1, 1, 1, 1, 1, 1, 1, 1, 1, 1, ...</td>\n",
       "      <td>0.999222</td>\n",
       "    </tr>\n",
       "    <tr>\n",
       "      <th>11153</th>\n",
       "      <td>[128000, 20996, 385, 1626, 3110, 27916, 220, 1...</td>\n",
       "      <td>[1, 1, 1, 1, 1, 1, 1, 1, 1, 1, 1, 1, 1, 1, 1, ...</td>\n",
       "      <td>0.998654</td>\n",
       "    </tr>\n",
       "    <tr>\n",
       "      <th>11154</th>\n",
       "      <td>[128000, 20996, 385, 1626, 3110, 27916, 220, 1...</td>\n",
       "      <td>[1, 1, 1, 1, 1, 1, 1, 1, 1, 1, 1, 1, 1, 1, 1, ...</td>\n",
       "      <td>0.999329</td>\n",
       "    </tr>\n",
       "  </tbody>\n",
       "</table>\n",
       "<p>11155 rows × 3 columns</p>\n",
       "</div>"
      ],
      "text/plain": [
       "                                               input_ids  \\\n",
       "0      [128000, 20996, 385, 1626, 3110, 27916, 220, 1...   \n",
       "1      [128000, 20996, 385, 1626, 3110, 27916, 220, 1...   \n",
       "2      [128000, 20996, 385, 1626, 3110, 27916, 220, 1...   \n",
       "3      [128000, 20996, 385, 1626, 3110, 27916, 220, 1...   \n",
       "4      [128000, 20996, 385, 1626, 3110, 27916, 220, 1...   \n",
       "...                                                  ...   \n",
       "11150  [128000, 20996, 385, 1626, 3110, 27916, 220, 1...   \n",
       "11151  [128000, 20996, 385, 1626, 3110, 27916, 220, 1...   \n",
       "11152  [128000, 20996, 385, 1626, 3110, 27916, 220, 1...   \n",
       "11153  [128000, 20996, 385, 1626, 3110, 27916, 220, 1...   \n",
       "11154  [128000, 20996, 385, 1626, 3110, 27916, 220, 1...   \n",
       "\n",
       "                                          attention_mask    target  \n",
       "0      [1, 1, 1, 1, 1, 1, 1, 1, 1, 1, 1, 1, 1, 1, 1, ...  0.999304  \n",
       "1      [1, 1, 1, 1, 1, 1, 1, 1, 1, 1, 1, 1, 1, 1, 1, ...  0.236472  \n",
       "2      [1, 1, 1, 1, 1, 1, 1, 1, 1, 1, 1, 1, 1, 1, 1, ...  0.999069  \n",
       "3      [1, 1, 1, 1, 1, 1, 1, 1, 1, 1, 1, 1, 1, 1, 1, ...  0.038738  \n",
       "4      [1, 1, 1, 1, 1, 1, 1, 1, 1, 1, 1, 1, 1, 1, 1, ...  0.997847  \n",
       "...                                                  ...       ...  \n",
       "11150  [1, 1, 1, 1, 1, 1, 1, 1, 1, 1, 1, 1, 1, 1, 1, ...  0.999304  \n",
       "11151  [1, 1, 1, 1, 1, 1, 1, 1, 1, 1, 1, 1, 1, 1, 1, ...  0.999363  \n",
       "11152  [1, 1, 1, 1, 1, 1, 1, 1, 1, 1, 1, 1, 1, 1, 1, ...  0.999222  \n",
       "11153  [1, 1, 1, 1, 1, 1, 1, 1, 1, 1, 1, 1, 1, 1, 1, ...  0.998654  \n",
       "11154  [1, 1, 1, 1, 1, 1, 1, 1, 1, 1, 1, 1, 1, 1, 1, ...  0.999329  \n",
       "\n",
       "[11155 rows x 3 columns]"
      ]
     },
     "execution_count": 29,
     "metadata": {},
     "output_type": "execute_result"
    }
   ],
   "source": [
    "results.reset_index(drop=True)"
   ]
  },
  {
   "cell_type": "code",
   "execution_count": 30,
   "id": "4f788c46-b648-4f6f-a270-ec1399b8735c",
   "metadata": {},
   "outputs": [],
   "source": [
    "y_pred = results.reset_index(drop=True)[\"target\"]"
   ]
  },
  {
   "cell_type": "code",
   "execution_count": 31,
   "id": "de59c8df-ef7f-4ef2-8fe4-a27ffc2e5579",
   "metadata": {},
   "outputs": [
    {
     "data": {
      "text/html": [
       "<div>\n",
       "<style scoped>\n",
       "    .dataframe tbody tr th:only-of-type {\n",
       "        vertical-align: middle;\n",
       "    }\n",
       "\n",
       "    .dataframe tbody tr th {\n",
       "        vertical-align: top;\n",
       "    }\n",
       "\n",
       "    .dataframe thead th {\n",
       "        text-align: right;\n",
       "    }\n",
       "</style>\n",
       "<table border=\"1\" class=\"dataframe\">\n",
       "  <thead>\n",
       "    <tr style=\"text-align: right;\">\n",
       "      <th></th>\n",
       "      <th>target</th>\n",
       "    </tr>\n",
       "  </thead>\n",
       "  <tbody>\n",
       "    <tr>\n",
       "      <th>0</th>\n",
       "      <td>0.999304</td>\n",
       "    </tr>\n",
       "    <tr>\n",
       "      <th>1</th>\n",
       "      <td>0.236472</td>\n",
       "    </tr>\n",
       "    <tr>\n",
       "      <th>2</th>\n",
       "      <td>0.999069</td>\n",
       "    </tr>\n",
       "    <tr>\n",
       "      <th>3</th>\n",
       "      <td>0.038738</td>\n",
       "    </tr>\n",
       "    <tr>\n",
       "      <th>4</th>\n",
       "      <td>0.997847</td>\n",
       "    </tr>\n",
       "    <tr>\n",
       "      <th>...</th>\n",
       "      <td>...</td>\n",
       "    </tr>\n",
       "    <tr>\n",
       "      <th>11150</th>\n",
       "      <td>0.999304</td>\n",
       "    </tr>\n",
       "    <tr>\n",
       "      <th>11151</th>\n",
       "      <td>0.999363</td>\n",
       "    </tr>\n",
       "    <tr>\n",
       "      <th>11152</th>\n",
       "      <td>0.999222</td>\n",
       "    </tr>\n",
       "    <tr>\n",
       "      <th>11153</th>\n",
       "      <td>0.998654</td>\n",
       "    </tr>\n",
       "    <tr>\n",
       "      <th>11154</th>\n",
       "      <td>0.999329</td>\n",
       "    </tr>\n",
       "  </tbody>\n",
       "</table>\n",
       "<p>11155 rows × 1 columns</p>\n",
       "</div>"
      ],
      "text/plain": [
       "         target\n",
       "0      0.999304\n",
       "1      0.236472\n",
       "2      0.999069\n",
       "3      0.038738\n",
       "4      0.997847\n",
       "...         ...\n",
       "11150  0.999304\n",
       "11151  0.999363\n",
       "11152  0.999222\n",
       "11153  0.998654\n",
       "11154  0.999329\n",
       "\n",
       "[11155 rows x 1 columns]"
      ]
     },
     "execution_count": 31,
     "metadata": {},
     "output_type": "execute_result"
    }
   ],
   "source": [
    "sample_submission['target'] = y_pred\n",
    "sample_submission"
   ]
  },
  {
   "cell_type": "code",
   "execution_count": 32,
   "id": "b7643a7d-80de-4488-bbb7-371d55328c3d",
   "metadata": {},
   "outputs": [
    {
     "data": {
      "image/png": "[encoded data removed]",
      "text/plain": [
       "<Figure size 800x600 with 1 Axes>"
      ]
     },
     "metadata": {},
     "output_type": "display_data"
    }
   ],
   "source": [
    "import matplotlib.pyplot as plt\n",
    "\n",
    "fig, ax = plt.subplots(figsize=(8, 6))\n",
    "\n",
    "vmax = .02\n",
    "bins = np.linspace(0, 1, 100)\n",
    "ax.hist(sample_submission['target'], bins=bins, density=True, alpha=.5, label=\"Test\")\n",
    "ax.grid()\n",
    "ax.legend()\n",
    "# ax.set_title(\"テストと学習時の予測傾向差分\")\n",
    "\n",
    "fig.tight_layout()"
   ]
  },
  {
   "cell_type": "code",
   "execution_count": 33,
   "id": "c9f9b972-4361-4fe5-8b8c-8018e6a58ed9",
   "metadata": {},
   "outputs": [
    {
     "data": {
      "text/html": [
       "<div>\n",
       "<style scoped>\n",
       "    .dataframe tbody tr th:only-of-type {\n",
       "        vertical-align: middle;\n",
       "    }\n",
       "\n",
       "    .dataframe tbody tr th {\n",
       "        vertical-align: top;\n",
       "    }\n",
       "\n",
       "    .dataframe thead th {\n",
       "        text-align: right;\n",
       "    }\n",
       "</style>\n",
       "<table border=\"1\" class=\"dataframe\">\n",
       "  <thead>\n",
       "    <tr style=\"text-align: right;\">\n",
       "      <th></th>\n",
       "      <th>target</th>\n",
       "    </tr>\n",
       "  </thead>\n",
       "  <tbody>\n",
       "    <tr>\n",
       "      <th>0</th>\n",
       "      <td>0.999304</td>\n",
       "    </tr>\n",
       "    <tr>\n",
       "      <th>1</th>\n",
       "      <td>0.236472</td>\n",
       "    </tr>\n",
       "    <tr>\n",
       "      <th>2</th>\n",
       "      <td>0.999069</td>\n",
       "    </tr>\n",
       "    <tr>\n",
       "      <th>3</th>\n",
       "      <td>0.038738</td>\n",
       "    </tr>\n",
       "    <tr>\n",
       "      <th>4</th>\n",
       "      <td>0.997847</td>\n",
       "    </tr>\n",
       "    <tr>\n",
       "      <th>...</th>\n",
       "      <td>...</td>\n",
       "    </tr>\n",
       "    <tr>\n",
       "      <th>11150</th>\n",
       "      <td>0.999304</td>\n",
       "    </tr>\n",
       "    <tr>\n",
       "      <th>11151</th>\n",
       "      <td>0.999363</td>\n",
       "    </tr>\n",
       "    <tr>\n",
       "      <th>11152</th>\n",
       "      <td>0.999222</td>\n",
       "    </tr>\n",
       "    <tr>\n",
       "      <th>11153</th>\n",
       "      <td>0.998654</td>\n",
       "    </tr>\n",
       "    <tr>\n",
       "      <th>11154</th>\n",
       "      <td>0.999329</td>\n",
       "    </tr>\n",
       "  </tbody>\n",
       "</table>\n",
       "<p>11155 rows × 1 columns</p>\n",
       "</div>"
      ],
      "text/plain": [
       "         target\n",
       "0      0.999304\n",
       "1      0.236472\n",
       "2      0.999069\n",
       "3      0.038738\n",
       "4      0.997847\n",
       "...         ...\n",
       "11150  0.999304\n",
       "11151  0.999363\n",
       "11152  0.999222\n",
       "11153  0.998654\n",
       "11154  0.999329\n",
       "\n",
       "[11155 rows x 1 columns]"
      ]
     },
     "execution_count": 33,
     "metadata": {},
     "output_type": "execute_result"
    }
   ],
   "source": [
    "sample_submission"
   ]
  },
  {
   "cell_type": "code",
   "execution_count": 34,
   "id": "acf2f754-ba0b-4820-86ed-9469c932eb87",
   "metadata": {},
   "outputs": [],
   "source": [
    "assert sample_submission[\"target\"].equals(results.reset_index(drop=True)[\"target\"])"
   ]
  },
  {
   "cell_type": "code",
   "execution_count": 35,
   "id": "c6404839-0fbb-43cf-9255-a8acfb85131e",
   "metadata": {},
   "outputs": [],
   "source": [
    "sample_submission.to_csv('llama_ver2_infer.csv', index=False)"
   ]
  },
  {
   "cell_type": "code",
   "execution_count": null,
   "id": "7017e15b-d003-4053-8c0a-49ccfe56196e",
   "metadata": {},
   "outputs": [],
   "source": []
  }
 ],
 "metadata": {
  "kernelspec": {
   "display_name": "Python 3 (ipykernel)",
   "language": "python",
   "name": "python3"
  },
  "language_info": {
   "codemirror_mode": {
    "name": "ipython",
    "version": 3
   },
   "file_extension": ".py",
   "mimetype": "text/x-python",
   "name": "python",
   "nbconvert_exporter": "python",
   "pygments_lexer": "ipython3",
   "version": "3.10.13"
  }
 },
 "nbformat": 4,
 "nbformat_minor": 5
}
